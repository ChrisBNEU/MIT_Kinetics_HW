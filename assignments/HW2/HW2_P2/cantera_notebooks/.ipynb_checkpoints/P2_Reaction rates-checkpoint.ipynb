{
 "cells": [
  {
   "cell_type": "code",
   "execution_count": 9,
   "metadata": {},
   "outputs": [
    {
     "name": "stdout",
     "output_type": "stream",
     "text": [
      "Running Cantera version: 2.4.0\n"
     ]
    }
   ],
   "source": [
    "import pandas as pd\n",
    "import numpy as np\n",
    "import time\n",
    "import cantera as ct\n",
    "from matplotlib import pyplot as plt\n",
    "import csv\n",
    "import math\n",
    "from pathlib import Path\n",
    "\n",
    "print(\"Running Cantera version: {}\".format(ct.__version__))"
   ]
  },
  {
   "cell_type": "markdown",
   "metadata": {},
   "source": [
    "##### Forward rate 300 K #####"
   ]
  },
  {
   "cell_type": "code",
   "execution_count": 10,
   "metadata": {},
   "outputs": [],
   "source": [
    "# rate from b3lyp/631g(d,p) calcs\n",
    "\n",
    "cti_file = '~/_01_code/MIT_Kinetics_HW/assignments/HW2/HW2_P2/Cantera_notebooks/chem.cti'\n",
    "gas = ct.Solution(cti_file)"
   ]
  },
  {
   "cell_type": "code",
   "execution_count": 11,
   "metadata": {},
   "outputs": [
    {
     "name": "stdout",
     "output_type": "stream",
     "text": [
      "r_hydroxylamine + r_no2 <=> p_hono + p_nitric_oxide\n",
      "1.1551139546178224\n"
     ]
    }
   ],
   "source": [
    "# Reactor conditions\n",
    "reactorTemperature = 300  # Kelvin\n",
    "reactorPressure = ct.one_atm\n",
    "concentrations = {'r_no2': 0.5, 'r_hydroxylamine': 0.5}\n",
    "gas.TPX = reactorTemperature, reactorPressure, concentrations \n",
    "\n",
    "# [NO2][Hydroxylamine] k has units m^3/(kmol*s) in cantera, divide by 1000 to get moles\n",
    "print(gas.reaction(0))\n",
    "print(gas.forward_rate_constants[0]/1000)\n"
   ]
  },
  {
   "cell_type": "code",
   "execution_count": 12,
   "metadata": {},
   "outputs": [
    {
     "name": "stdout",
     "output_type": "stream",
     "text": [
      "3.4\n"
     ]
    }
   ],
   "source": [
    "# Ashcraft, R. W. et. al. Predicted reaction rates of HxNyOz intermediates in the oxidation \n",
    "# of hydroxylamine by aqueous nitric acid. https://doi.org/10.1021/jp711401p\n",
    "# units L/(mol*s) at 298\n",
    "\n",
    "# get R in J/molK\n",
    "gas_constant_SI = ct.gas_constant/1000\n",
    "\n",
    "#units of mol, m^3, s\n",
    "for_rate_lit_300 = 3.4\n",
    "\n",
    "print(for_rate_lit_300)"
   ]
  },
  {
   "cell_type": "code",
   "execution_count": 15,
   "metadata": {},
   "outputs": [
    {
     "name": "stdout",
     "output_type": "stream",
     "text": [
      "r_hydroxylamine + r_no2 <=> p_hono + p_nitric_oxide\n",
      "0.013546470930644044\n"
     ]
    }
   ],
   "source": [
    "# k has units m^3/(kmol*s) in cantera, divide by 1000 to get moles\n",
    "print(gas.reaction(0))\n",
    "print(gas.reverse_rate_constants[0]/1000)"
   ]
  },
  {
   "cell_type": "markdown",
   "metadata": {},
   "source": [
    "##### Equilibrium constant at 300 K #####"
   ]
  },
  {
   "cell_type": "code",
   "execution_count": 17,
   "metadata": {},
   "outputs": [
    {
     "name": "stdout",
     "output_type": "stream",
     "text": [
      "85.27047085044047\n"
     ]
    }
   ],
   "source": [
    "print(gas.equilibrium_constants[0])"
   ]
  },
  {
   "cell_type": "markdown",
   "metadata": {},
   "source": [
    "##### Forward rate  at 1000 K #####"
   ]
  },
  {
   "cell_type": "code",
   "execution_count": 18,
   "metadata": {},
   "outputs": [
    {
     "name": "stdout",
     "output_type": "stream",
     "text": [
      "r_hydroxylamine + r_no2 <=> p_hono + p_nitric_oxide\n",
      "2976.463194431358\n"
     ]
    }
   ],
   "source": [
    "# Reactor conditions\n",
    "reactorTemperature = 1000  # Kelvin\n",
    "reactorPressure = ct.one_atm\n",
    "concentrations = {'r_no2': 0.5, 'r_hydroxylamine': 0.5}\n",
    "gas.TPX = reactorTemperature, reactorPressure, concentrations \n",
    "\n",
    "# [NO2][Hydroxylamine] k has units m^3/(kmol*s) in cantera, multiply by 1000 to get moles\n",
    "print(gas.reaction(0))\n",
    "print(gas.forward_rate_constants[0]/1000)\n"
   ]
  },
  {
   "cell_type": "markdown",
   "metadata": {},
   "source": [
    "##### Reverse rate at 1000K #####"
   ]
  },
  {
   "cell_type": "code",
   "execution_count": 20,
   "metadata": {},
   "outputs": [
    {
     "name": "stdout",
     "output_type": "stream",
     "text": [
      "r_hydroxylamine + r_no2 <=> p_hono + p_nitric_oxide\n",
      "319.51942769259676\n"
     ]
    }
   ],
   "source": [
    "# [ch3ch2ch2] k has units of 1/s in cantera, no unit conversion necessary\n",
    "print(gas.reaction(0))\n",
    "print(gas.reverse_rate_constants[0]/1000)"
   ]
  },
  {
   "cell_type": "markdown",
   "metadata": {},
   "source": [
    "##### Equilibrium constant at 1000 K #####"
   ]
  },
  {
   "cell_type": "code",
   "execution_count": 22,
   "metadata": {},
   "outputs": [
    {
     "name": "stdout",
     "output_type": "stream",
     "text": [
      "[9.3154373]\n"
     ]
    },
    {
     "data": {
      "text/plain": [
       "9.31543729883916"
      ]
     },
     "execution_count": 22,
     "metadata": {},
     "output_type": "execute_result"
    }
   ],
   "source": [
    "print(gas.equilibrium_constants)"
   ]
  },
  {
   "cell_type": "markdown",
   "metadata": {},
   "source": [
    "##### Radical concentations at 1000K  #####"
   ]
  },
  {
   "cell_type": "code",
   "execution_count": 63,
   "metadata": {},
   "outputs": [
    {
     "name": "stdout",
     "output_type": "stream",
     "text": [
      "3372.727684790406\n"
     ]
    }
   ],
   "source": [
    "ch32_propene = (gas.equilibrium_constants[0]*ct.gas_constant*reactorTemperature)/(0.3*ct.one_atm)\n",
    "print(ch32_propene)"
   ]
  },
  {
   "cell_type": "code",
   "execution_count": null,
   "metadata": {},
   "outputs": [],
   "source": []
  }
 ],
 "metadata": {
  "kernelspec": {
   "display_name": "Python 3",
   "language": "python",
   "name": "python3"
  },
  "language_info": {
   "codemirror_mode": {
    "name": "ipython",
    "version": 3
   },
   "file_extension": ".py",
   "mimetype": "text/x-python",
   "name": "python",
   "nbconvert_exporter": "python",
   "pygments_lexer": "ipython3",
   "version": "3.7.7"
  }
 },
 "nbformat": 4,
 "nbformat_minor": 4
}
