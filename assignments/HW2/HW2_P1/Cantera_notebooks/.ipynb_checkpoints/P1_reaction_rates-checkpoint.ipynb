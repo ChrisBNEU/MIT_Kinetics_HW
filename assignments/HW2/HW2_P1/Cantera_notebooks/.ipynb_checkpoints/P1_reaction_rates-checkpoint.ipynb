{
 "cells": [
  {
   "cell_type": "code",
   "execution_count": 4,
   "metadata": {},
   "outputs": [
    {
     "name": "stdout",
     "output_type": "stream",
     "text": [
      "Running Cantera version: 2.4.0\n"
     ]
    }
   ],
   "source": [
    "import pandas as pd\n",
    "import numpy as np\n",
    "import time\n",
    "import cantera as ct\n",
    "from matplotlib import pyplot as plt\n",
    "import csv\n",
    "import math\n",
    "from pathlib import Path\n",
    "\n",
    "print(\"Running Cantera version: {}\".format(ct.__version__))"
   ]
  },
  {
   "cell_type": "markdown",
   "metadata": {},
   "source": [
    "##### Forward rate 300 K #####"
   ]
  },
  {
   "cell_type": "code",
   "execution_count": 9,
   "metadata": {},
   "outputs": [],
   "source": [
    "# rate from b3lyp/631g(d,p) calcs\n",
    "\n",
    "cti_file = '~/_01_code/MIT_Kinetics_HW/assignments/HW2/HW2_P1/Cantera_notebooks/chem.cti'\n",
    "gas = ct.Solution(cti_file)"
   ]
  },
  {
   "cell_type": "code",
   "execution_count": 55,
   "metadata": {},
   "outputs": [
    {
     "name": "stdout",
     "output_type": "stream",
     "text": [
      "101325.0\n",
      "C2H4 + CH3 <=> C3H7\n",
      "9.257512856572713\n"
     ]
    }
   ],
   "source": [
    "# Reactor conditions\n",
    "reactorTemperature = 300  # Kelvin\n",
    "reactorPressure = ct.one_atm\n",
    "concentrations = {'CH3': 0.7, 'C2H4': 0.3}\n",
    "gas.TPX = reactorTemperature, reactorPressure, concentrations \n",
    "\n",
    "# [ch3][ch2ch2] k has units m^3/(kmol*s) in cantera, multiply by 1000 to get moles\n",
    "print(gas.reaction(0))\n",
    "print(gas.forward_rate_constants[0]/1000)\n"
   ]
  },
  {
   "cell_type": "code",
   "execution_count": 50,
   "metadata": {},
   "outputs": [
    {
     "name": "stdout",
     "output_type": "stream",
     "text": [
      "0.8112971455584235\n"
     ]
    }
   ],
   "source": [
    "# source: JetSurF2.0/247 \n",
    "# get R in J/molK\n",
    "gas_constant_SI = ct.gas_constant/1000\n",
    "\n",
    "#units of mol, m^3, s\n",
    "for_rate_lit_300 = (3.3*(10**5))*math.exp(-32216.8/(gas_constant_SI*reactorTemperature))\n",
    "\n",
    "print(for_rate_lit_300)"
   ]
  },
  {
   "cell_type": "code",
   "execution_count": 51,
   "metadata": {},
   "outputs": [
    {
     "name": "stdout",
     "output_type": "stream",
     "text": [
      "C2H4 + CH3 <=> C3H7\n",
      "4.912796026240132e-10\n"
     ]
    }
   ],
   "source": [
    "# [ch3ch2ch2] k has units of 1/s in cantera, no unit conversion necessary\n",
    "\n",
    "\n",
    "print(gas.reaction(0))\n",
    "print(gas.reverse_rate_constants[0])"
   ]
  },
  {
   "cell_type": "markdown",
   "metadata": {},
   "source": [
    "##### Equilibrium constant at 300 K #####"
   ]
  },
  {
   "cell_type": "code",
   "execution_count": 54,
   "metadata": {},
   "outputs": [
    {
     "name": "stdout",
     "output_type": "stream",
     "text": [
      "18843674370209.27\n",
      "8314.4621\n"
     ]
    }
   ],
   "source": [
    "print(gas.equilibrium_constants[0])\n",
    "print(ct.gas_constant)"
   ]
  },
  {
   "cell_type": "markdown",
   "metadata": {},
   "source": [
    "##### Radical concentations at 300K  #####"
   ]
  },
  {
   "cell_type": "code",
   "execution_count": 57,
   "metadata": {},
   "outputs": [
    {
     "name": "stdout",
     "output_type": "stream",
     "text": [
      "1546262189744351.0\n"
     ]
    }
   ],
   "source": [
    "ch32_propene = (gas.equilibrium_constants[0]*ct.gas_constant*reactorTemperature)/(0.3*ct.one_atm)\n",
    "print(ch32_propene)"
   ]
  },
  {
   "cell_type": "markdown",
   "metadata": {},
   "source": [
    "##### Forward rate  at 1000 K #####"
   ]
  },
  {
   "cell_type": "code",
   "execution_count": 58,
   "metadata": {},
   "outputs": [
    {
     "name": "stdout",
     "output_type": "stream",
     "text": [
      "C2H4 + CH3 <=> C3H7\n",
      "63130.77595541323\n"
     ]
    }
   ],
   "source": [
    "# Reactor conditions\n",
    "reactorTemperature = 1000  # Kelvin\n",
    "reactorPressure = ct.one_atm\n",
    "concentrations = {'CH3': 0.7, 'C2H4': 0.3}\n",
    "gas.TPX = reactorTemperature, reactorPressure, concentrations \n",
    "\n",
    "# [ch3][ch2ch2] k has units m^3/(kmol*s) in cantera, multiply by 1000 to get moles\n",
    "print(gas.reaction(0))\n",
    "print(gas.forward_rate_constants[0]/1000)"
   ]
  },
  {
   "cell_type": "code",
   "execution_count": 59,
   "metadata": {},
   "outputs": [
    {
     "name": "stdout",
     "output_type": "stream",
     "text": [
      "6850.365476229749\n"
     ]
    }
   ],
   "source": [
    "# source: JetSurF2.0/247 \n",
    "# get R in J/molK\n",
    "gas_constant_SI = ct.gas_constant/1000\n",
    "\n",
    "#units of mol, m^3, s\n",
    "for_rate_lit_1000 = (3.3*(10**5))*math.exp(-32216.8/(gas_constant_SI*reactorTemperature))\n",
    "\n",
    "print(for_rate_lit_1000)"
   ]
  },
  {
   "cell_type": "markdown",
   "metadata": {},
   "source": [
    "##### Reverse rate at 1000K #####"
   ]
  },
  {
   "cell_type": "code",
   "execution_count": 60,
   "metadata": {},
   "outputs": [
    {
     "name": "stdout",
     "output_type": "stream",
     "text": [
      "C2H4 + CH3 <=> C3H7\n",
      "5119837.07240187\n"
     ]
    }
   ],
   "source": [
    "# [ch3ch2ch2] k has units of 1/s in cantera, no unit conversion necessary\n",
    "print(gas.reaction(0))\n",
    "print(gas.reverse_rate_constants[0])"
   ]
  },
  {
   "cell_type": "code",
   "execution_count": 61,
   "metadata": {},
   "outputs": [
    {
     "name": "stdout",
     "output_type": "stream",
     "text": [
      "22489691949.937286\n"
     ]
    }
   ],
   "source": [
    "# source: JetSurF2.0/247 \n",
    "\n",
    "#units of mol, m^3, s\n",
    "rev_rate_lit_1000 = (1.802*(10**17))*math.exp(-132171.02/(gas_constant_SI*reactorTemperature))\n",
    "\n",
    "print(rev_rate_lit_1000)"
   ]
  },
  {
   "cell_type": "markdown",
   "metadata": {},
   "source": [
    "##### Equilibrium constant at 1000 K #####"
   ]
  },
  {
   "cell_type": "code",
   "execution_count": 62,
   "metadata": {},
   "outputs": [
    {
     "name": "stdout",
     "output_type": "stream",
     "text": [
      "[12.33062206]\n"
     ]
    }
   ],
   "source": [
    "print(gas.equilibrium_constants)"
   ]
  },
  {
   "cell_type": "markdown",
   "metadata": {},
   "source": [
    "##### Radical concentations at 1000K  #####"
   ]
  },
  {
   "cell_type": "code",
   "execution_count": 63,
   "metadata": {},
   "outputs": [
    {
     "name": "stdout",
     "output_type": "stream",
     "text": [
      "3372.727684790406\n"
     ]
    }
   ],
   "source": [
    "ch32_propene = (gas.equilibrium_constants[0]*ct.gas_constant*reactorTemperature)/(0.3*ct.one_atm)\n",
    "print(ch32_propene)"
   ]
  },
  {
   "cell_type": "code",
   "execution_count": null,
   "metadata": {},
   "outputs": [],
   "source": []
  }
 ],
 "metadata": {
  "kernelspec": {
   "display_name": "Python 3",
   "language": "python",
   "name": "python3"
  },
  "language_info": {
   "codemirror_mode": {
    "name": "ipython",
    "version": 3
   },
   "file_extension": ".py",
   "mimetype": "text/x-python",
   "name": "python",
   "nbconvert_exporter": "python",
   "pygments_lexer": "ipython3",
   "version": "3.7.7"
  }
 },
 "nbformat": 4,
 "nbformat_minor": 4
}
