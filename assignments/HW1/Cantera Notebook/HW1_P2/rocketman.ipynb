{
 "cells": [
  {
   "cell_type": "markdown",
   "metadata": {},
   "source": [
    "# Plug flow reactor simulation of Thruster\n",
    "\n",
    "![caption](Graphics/thruster-details.png)\n"
   ]
  },
  {
   "cell_type": "code",
   "execution_count": 1,
   "metadata": {},
   "outputs": [],
   "source": [
    "import cantera as ct\n",
    "import numpy as np\n",
    "\n",
    "from matplotlib import pyplot as plt\n",
    "import csv\n",
    "import os\n",
    "import re\n",
    "import itertools\n",
    "import pandas as pd\n",
    "from collections import defaultdict"
   ]
  },
  {
   "cell_type": "code",
   "execution_count": 2,
   "metadata": {},
   "outputs": [],
   "source": [
    "# default if not using SLURM array\n",
    "cat_area_per_vol = 2.8e5 # m2/m3\n",
    "temperature_c = 550 # ºC\n",
    "rtol = 1e-11\n",
    "atol = 1e-24\n",
    "residual_threshold = 5e-3\n",
    "\n",
    "# input file containing the reaction mechanism\n",
    "cti_file = '../RMG-model/cantera/chem_annotated.cti'\n",
    "#cti_file = '../RMG-model/cantera/chem0050.cti'"
   ]
  },
  {
   "cell_type": "code",
   "execution_count": 3,
   "metadata": {},
   "outputs": [
    {
     "name": "stdout",
     "output_type": "stream",
     "text": [
      "Settings array is from 0 to 287 \n"
     ]
    }
   ],
   "source": [
    "cat_area_per_vol_options = [3e2, 3e3, 3e4, 3e5, 6e5, 9e5, 1.2e6, 3e6, 3e7, 3e8] # m2/m3\n",
    "temperature_c_options = [200, 300, 400, 500, 600] # ºC\n",
    "\n",
    "cat_area_per_vol_options = [3e3, 3e4, 3e5, 3e6, 3e7, 3e8] # m2/m3\n",
    "temperature_c_options = [200, 300, 400, 500] # ºC\n",
    "rtol_options = [1e-6, 1e-9, 1e-11]\n",
    "atol_options = [1e-15, 1e-18, 1e-21, 1e-24]\n",
    "\n",
    "settings  = list(itertools.product(cat_area_per_vol_options,\n",
    "                                   temperature_c_options,\n",
    "                                   rtol_options,\n",
    "                                   atol_options\n",
    "                                  ))\n",
    "print(f\"Settings array is from 0 to {len(settings)-1} \")"
   ]
  },
  {
   "cell_type": "code",
   "execution_count": 4,
   "metadata": {},
   "outputs": [
    {
     "name": "stdout",
     "output_type": "stream",
     "text": [
      "#SBATCH --array=0-287%100\n",
      "\n"
     ]
    }
   ],
   "source": [
    "with open('rocketman_array.sh') as f:\n",
    "    for l in f:\n",
    "        m = re.match('#SBATCH --array=(\\d+)-(\\d+)', l)\n",
    "        if m:\n",
    "            print(l)\n",
    "            start = int(m.group(1))\n",
    "            end = int(m.group(2))\n",
    "assert (start, end) == (0, len(settings)-1 ), \"SLURM array doesn't match settings array\""
   ]
  },
  {
   "cell_type": "raw",
   "metadata": {},
   "source": [
    "task_number = int(os.getenv('SLURM_ARRAY_TASK_ID', default='0'))\n",
    "task_min = int(os.getenv('SLURM_ARRAY_TASK_MIN', default='0'))\n",
    "task_max = int(os.getenv('SLURM_ARRAY_TASK_MAX', default='0'))\n",
    "\n",
    "if task_max > 0:\n",
    "    print(\"Using SLURM array job.\")\n",
    "    \n",
    "    cti_file = 'chem_annotated.cti'\n",
    "    print(f\"Using cantera input file {os.path.abspath(cti_file)}\")\n",
    "\n",
    "    print(f\"Task ID {task_number} in array from {task_min} to {task_max}\")\n",
    "\n",
    "    cat_area_per_vol, temperature_c, rtol, atol = settings[task_number]\n"
   ]
  },
  {
   "cell_type": "raw",
   "metadata": {},
   "source": [
    "if task_number == 0:\n",
    "    import json\n",
    "    setting_file_directory = '..' if task_max else 'rocketman'\n",
    "    with open(os.path.join(setting_file_directory,'settings.json'),'w') as fp:\n",
    "        json.dump(settings, fp)"
   ]
  },
  {
   "cell_type": "code",
   "execution_count": 5,
   "metadata": {},
   "outputs": [
    {
     "name": "stdout",
     "output_type": "stream",
     "text": [
      "Catalyst area per volume 2.80e+05 m2/m3\n",
      "Initial temperature      550.0 ºC\n",
      "Solver RTOL              1.0e-11\n",
      "Solvel ATOL              1.0e-24\n"
     ]
    }
   ],
   "source": [
    "print(f\"Catalyst area per volume {cat_area_per_vol :.2e} m2/m3\")\n",
    "print(f\"Initial temperature      {temperature_c :.1f} ºC\")\n",
    "print(f\"Solver RTOL              {rtol :.1e}\")\n",
    "print(f\"Solvel ATOL              {atol :.1e}\")"
   ]
  },
  {
   "cell_type": "code",
   "execution_count": 6,
   "metadata": {},
   "outputs": [],
   "source": [
    "gas=ct.Solution(cti_file)\n",
    "surf = ct.Interface(cti_file,'surface1', [gas])"
   ]
  },
  {
   "cell_type": "code",
   "execution_count": 7,
   "metadata": {},
   "outputs": [
    {
     "name": "stdout",
     "output_type": "stream",
     "text": [
      "\n",
      "  gas:\n",
      "\n",
      "       temperature             300  K\n",
      "          pressure          101325  Pa\n",
      "           density         0.81974  kg/m^3\n",
      "  mean mol. weight         20.1797  amu\n",
      "\n",
      "                          1 kg            1 kmol\n",
      "                       -----------      ------------\n",
      "          enthalpy          1905.6        3.845e+04     J\n",
      "   internal energy      -1.217e+05       -2.456e+06     J\n",
      "           entropy          7257.7        1.465e+05     J/K\n",
      "    Gibbs function     -2.1754e+06        -4.39e+07     J\n",
      " heat capacity c_p          1030.1        2.079e+04     J/K\n",
      " heat capacity c_v          618.03        1.247e+04     J/K\n",
      "\n",
      "                           X                 Y          Chem. Pot. / RT\n",
      "                     -------------     ------------     ------------\n",
      "                Ne              1                1         -17.5994\n",
      "     [ +186 minor]              0                0\n",
      "\n"
     ]
    }
   ],
   "source": [
    "gas()"
   ]
  },
  {
   "cell_type": "code",
   "execution_count": 8,
   "metadata": {},
   "outputs": [
    {
     "name": "stdout",
     "output_type": "stream",
     "text": [
      "Ne, NH3(2), NH2OH(3), HNO3(4), CH3OH(5), H2O(6), N2(7), O2(8), NO2(9), NO(10), N2O(11), CO2(12), H2(13), CO(14), CH4(15), C2H6(16), CH2O(17), CH3(18), C3H8(19), H(20), C2H5(21), HCO(22), CH3CHO(23), OH(24), C2H4(25), O(36), Ar(37), HO2(39), H2O2(40), HOCO(41), CH2(42), CH2(S)(43), CH(44), CH2OH(45), CH3O(46), HCOH(47), CH3OO(48), CH2CO(49), C2H3(50), C(51), C2H2(52), C2H(53), CH3OOH(54), CH2OOH(55), HOCH2O(56), HOCHO(57), C2H5O(58), C2H5O2(59), C2H5O2(60), cC2H4O(61), CH2CHO(62), H2CC(63), CH3CO(64), C2H4O(65), C2H5O(66), C2H3O2(67), CHCHO(68), OCHCHO(69), HCCO(70), HCCOH(71), CHCHOH(72), C2(73), C2O(74), C2H6O(75), C2H5O(76), C2H5O3(77), cC2H3O(78), C2H3O3(79), OCHCO(80), C2H6O2(81), C2H5O2(82), C2H4O2(83), OCHO(84), NH2(85), NH(86), HNO(87), H2NO(88), HON(89), N(90), NNH(91), HONO(92), HNOH(93), HNO2(94), NO3(95), N2H2(96), H2N2(97), N2H3(98), N2H4(99), HCN(100), CN(101), HNC(102), NCO(103), HOCN(104), HNCO(105), NCCN(106), HNCN(107), NCN(108), HNCNH(109), HCNO(110), CH3CN(111), CH2CN(112), CH2NH(113), H2CN(114), CH3NO(115), CH4N(116), NCNOH(117), NCNO(118), CH2NO(119), S(120), S(121), S(122), S(123), S(124), S(125), S(126), S(127), S(128), S(129), S(130), S(131), S(132), CH5N(133), CH3NH(134), HCNH(135), C2H7N(136), C2H6N(137), C2H6N(138), C2H6N(139), C2H5N(140), C2H5N(141), CH3NO(142), C2H4N(143), C2H4N(144), C2H4N(145), H2NCO(146), C2H4N(147), C2H4N(148), C2H3N(149), C2H3N(150), C2H3N(151), C2H3N(152), CHCNH(153), C2H3N(154), C2H4N(155), C2H6N(156), C2H7N(157), C2H6N(158), C2H5N(159), C2H4N(160), C2H4(200), H2NO3(243), HN2O(254), ONCDO(266), NO2NO(340), ONONO(343), CHNO3(372), N2O2(390), CHNO2(397), NOON(576), HNO(630), H3NO(634), NONDO(651), S(665), S(674), H3NO3(778), ONCO(1021), S(1108), S(1216), S(1489), S(1494), S(1740), S(2018), S(2039), S(2056), S(2083), S(2447), S(2896), N4O7(3316), S(4059), S(4541), S(5413), S(6827), N2O5(7142), S(7627), S(8965), S(9341), S(10763)\n"
     ]
    }
   ],
   "source": [
    "print(\", \".join(gas.species_names))"
   ]
  },
  {
   "cell_type": "code",
   "execution_count": 9,
   "metadata": {},
   "outputs": [
    {
     "name": "stdout",
     "output_type": "stream",
     "text": [
      "X(1), HX(26), OX(27), CH3X(28), HOX(29), H2OX(30), CO2X(31), OCX(32), CX(33), CH2X(34), CHX(35), H2NX(201), H3NX(202), H2NOX(203), H2NOX(204), H3NOX(205), NO2X(206), NO3X(207), HNO3X(208), CH3OX(209), CH3OX(210), CH4OX(211), OX(213), NOX(215), NO2X(216), NOJX(217), H2X(219), SX(494), SX(495), CHO2X(506), HNO2X(513), HNX(532), HNOX(533), NX(604), SX(605), SX(606), SX(609), H2N2X(614), N2O3X(618), SX(623), HNOX(631), H2NOX(633), HNO2X(741), SX(759), HONOX(934), SX(1000), SX(1039), SX(1043), SX(1047), SX(1048), SX(1050), SX(1063), SX(1064), HNOX(1071), SX(1163), SX(1249), N2OX(1419), CNOX(1438), SX(1527), SX(1895), SX(2232), SX(2233), SX(2465), SX(3049), SX(3050), SX(3248), SX(3939), SX(4539), SX(4540), NO3X(4718), SX(4793), SX(4794), SX(4937), SX(5513), SX(5810), SX(5814), SX(6977), SX(7604), SX(9643)\n"
     ]
    }
   ],
   "source": [
    "print(\", \".join(surf.species_names))"
   ]
  },
  {
   "cell_type": "markdown",
   "metadata": {},
   "source": [
    "\n",
    "\n",
    "This example solves a plug flow reactor problem, with coupled surface and gas chemistry.\n",
    "\n",
    "\n",
    "\n"
   ]
  },
  {
   "cell_type": "code",
   "execution_count": 10,
   "metadata": {},
   "outputs": [],
   "source": [
    "# unit conversion factors to SI\n",
    "cm = 0.01 # m\n",
    "minute = 60.0  # s"
   ]
  },
  {
   "cell_type": "code",
   "execution_count": 11,
   "metadata": {},
   "outputs": [
    {
     "name": "stdout",
     "output_type": "stream",
     "text": [
      "Initial temperature 550.0 ºC\n",
      "Catalyst specific area 1.40e+02 m2/g\n",
      "Catalyst density 2.00e+06 g/m3\n",
      "Catalyst area per total reactor volume 2.80e+08 m2/m3\n",
      "Catalyst area per gas volume 7.37e+08 m/m3\n",
      "7.37e+05\n",
      "\n",
      "Catalyst area per volume in use for this simulation: 2.80e+05 m2/m3\n"
     ]
    }
   ],
   "source": [
    "#######################################################################\n",
    "# Input Parameters for combustor\n",
    "#######################################################################\n",
    "mass_flow_rate =  0.5e-3 # kg/s\n",
    "#temperature_c = 550.0  # Initial Temperature in Celsius\n",
    "print(f\"Initial temperature {temperature_c :.1f} ºC\")\n",
    "pressure = ct.one_atm # constant\n",
    "\n",
    "length = 1.1 * cm  # Catalyst bed length. 11mm\n",
    "cross_section_area = np.pi * (0.9*cm)**2  # Catalyst bed area.  18mm diameter circle.\n",
    "\n",
    "### Catalyst properties. Some are hard to estimate\n",
    "# if we can, update this lit value or verify the value richard calculated\n",
    "porosity = 0.38  # Catalyst bed porosity (0.38)\n",
    "# Al2O3 particles are about 0.7mm diameter\n",
    "cat_specific_area = 140 # m2/g\n",
    "print(f\"Catalyst specific area {cat_specific_area :.2e} m2/g\")\n",
    "cat_density = 2 / cm**3 # 2 g/m3\n",
    "print(f\"Catalyst density {cat_density :.2e} g/m3\")\n",
    "cat_area_per_reactor_vol = cat_specific_area * cat_density # m2/m3\n",
    "print(f\"Catalyst area per total reactor volume {cat_area_per_reactor_vol :.2e} m2/m3\")\n",
    "cat_area_per_gas_vol = cat_area_per_reactor_vol / porosity # porosity is gas vol per reactor vol\n",
    "print(f\"Catalyst area per gas volume {cat_area_per_gas_vol :.2e} m/m3\")\n",
    "\n",
    "cat_area_per_vol2 =  cat_area_per_gas_vol * 1e-3 # REDUCE BY A LOT\n",
    "print(f\"{cat_area_per_vol2:.2e}\")\n",
    "cat_area_per_vol = 2.80e+05\n",
    "# cat_area_per_vol = 5314.2857\n",
    "print(f\"\\nCatalyst area per volume in use for this simulation: {cat_area_per_vol :.2e} m2/m3\")"
   ]
  },
  {
   "cell_type": "code",
   "execution_count": 12,
   "metadata": {},
   "outputs": [],
   "source": [
    "output_filename = 'surf_pfr_output_mlou_test.csv'\n",
    "\n",
    "# The PFR will be simulated by a chain of 'NReactors' stirred reactors.\n",
    "NReactors = 2201\n",
    "\n",
    "#####################################################################\n",
    "\n",
    "temperature_kelvin = temperature_c + 273.15  # convert to Kelvin\n",
    "\n",
    "# import the gas model and set the initial conditions\n",
    "gas = ct.Solution(cti_file, 'gas')\n",
    "\n",
    "# From HAN-molefractions.ipynb\n",
    "feed_mole_fractions = {\n",
    "    'NH3(2)': 0.031,\n",
    "    'NH2OH(3)': 0.32,\n",
    "    'HNO3(4)': 0.35,\n",
    "    'CH3OH(5)': 0.21,\n",
    "    'H2O(6)': 0.09,\n",
    "}\n",
    "gas.TPX = temperature_kelvin, pressure, feed_mole_fractions\n",
    "\n",
    "\n",
    "# import the surface model\n",
    "surf = ct.Interface(cti_file,'surface1', [gas])\n",
    "surf.TP = temperature_kelvin, pressure\n",
    "surf.coverages = 'X(1):1.0'\n",
    "\n",
    "r_len = length/(NReactors-1) \n",
    "r_vol = cross_section_area * r_len * porosity # gas volume\n",
    "\n",
    "# catalyst area in one reactor\n",
    "cat_area = cat_area_per_vol * r_vol\n",
    "\n",
    "# Not sure we need the velocity\n",
    "velocity = mass_flow_rate / (gas.density * cross_section_area)"
   ]
  },
  {
   "cell_type": "raw",
   "metadata": {
    "scrolled": false
   },
   "source": [
    "# To find the starting coverages, we run the gas to equilibrium,\n",
    "# (i.e mostly burned products)  then put that in steady state\n",
    "# with the surface.\n",
    "gas.TPX = temperature_kelvin, pressure, feed_mole_fractions\n",
    "TPY = gas.TPY # store to restore\n",
    "gas.equilibrate('TP')\n",
    "r = ct.IdealGasReactor(gas, energy='off')\n",
    "r.volume = r_vol\n",
    "rsurf = ct.ReactorSurface(surf, r, A=cat_area)\n",
    "sim = ct.ReactorNet([r])\n",
    "plt.plot(sim.advance_to_steady_state(return_residuals=True))\n",
    "plt.show()\n",
    "surf()\n",
    "starting_coverages = surf.coverages\n",
    "\n",
    "print(\"At equilibrium\")\n",
    "plt.barh(np.arange(len(gas.delta_gibbs)),gas.delta_gibbs)\n",
    "plt.barh(len(gas.delta_gibbs)+np.arange(len(surf.delta_gibbs)),surf.delta_gibbs)\n",
    "plt.title(\"∆G\")\n",
    "plt.show()\n",
    "plt.barh(np.arange(len(gas.delta_enthalpy)),gas.delta_enthalpy)\n",
    "plt.barh(len(gas.delta_enthalpy)+np.arange(len(surf.delta_enthalpy)),surf.delta_enthalpy)\n",
    "plt.title('∆H')\n",
    "plt.show()\n",
    "plt.barh(np.arange(len(gas.delta_entropy)),gas.delta_entropy)\n",
    "plt.barh(len(gas.delta_entropy)+np.arange(len(surf.delta_entropy)),surf.delta_entropy)\n",
    "plt.title('∆S')\n",
    "plt.show()\n",
    "\n",
    "gas.TPY = TPY # restore to starting conditions\n",
    "del(r, rsurf)\n",
    "starting_coverages"
   ]
  },
  {
   "cell_type": "raw",
   "metadata": {},
   "source": [
    "plt.barh(np.arange(len(gas.chemical_potentials)),gas.chemical_potentials)"
   ]
  },
  {
   "cell_type": "raw",
   "metadata": {},
   "source": [
    "plt.barh(np.arange(len(gas.delta_gibbs)),gas.delta_gibbs)\n",
    "plt.barh(len(gas.delta_gibbs)+np.arange(len(surf.delta_gibbs)),surf.delta_gibbs)\n",
    "plt.title(\"∆G\")\n",
    "plt.show()\n",
    "plt.barh(np.arange(len(gas.delta_enthalpy)),gas.delta_enthalpy)\n",
    "plt.barh(len(gas.delta_enthalpy)+np.arange(len(surf.delta_enthalpy)),surf.delta_enthalpy)\n",
    "plt.title('∆H')\n",
    "plt.show()\n",
    "plt.barh(np.arange(len(gas.delta_entropy)),gas.delta_entropy)\n",
    "plt.barh(len(gas.delta_entropy)+np.arange(len(surf.delta_entropy)),surf.delta_entropy)\n",
    "plt.title('∆S')\n",
    "plt.show()"
   ]
  },
  {
   "cell_type": "raw",
   "metadata": {},
   "source": [
    "plt.plot(gas.concentrations, gas.chemical_potentials, 'o')"
   ]
  },
  {
   "cell_type": "raw",
   "metadata": {},
   "source": [
    "plt.plot(surf.concentrations, surf.chemical_potentials, 'o')"
   ]
  },
  {
   "cell_type": "code",
   "execution_count": 13,
   "metadata": {
    "scrolled": false
   },
   "outputs": [],
   "source": [
    "def report_rates(n=8):\n",
    "    print(\"\\nHighest net rates of progress, gas\")\n",
    "    for i in np.argsort(abs(gas.net_rates_of_progress))[-1:-n:-1]: # top n in descending order\n",
    "        print(f\"{i:3d} : {gas.reaction_equation(i):48s}  {gas.net_rates_of_progress[i]:8.1g}\")\n",
    "    print(\"\\nHighest net rates of progress, surface\")\n",
    "    for i in np.argsort(abs(surf.net_rates_of_progress))[-1:-n:-1]: # top n in descending order\n",
    "        print(f\"{i:3d} : {surf.reaction_equation(i):48s}  {cat_area_per_vol*surf.net_rates_of_progress[i]:8.1g}\")\n",
    "    print(\"\\nHighest forward rates of progress, gas\")\n",
    "    for i in np.argsort(abs(gas.forward_rates_of_progress))[-1:-n:-1]: # top n in descending order\n",
    "        print(f\"{i:3d} : {gas.reaction_equation(i):48s}  {gas.forward_rates_of_progress[i]:8.1g}\")\n",
    "    print(\"\\nHighest forward rates of progress, surface\")\n",
    "    for i in np.argsort(abs(surf.forward_rates_of_progress))[-1:-n:-1]: # top n in descending order\n",
    "        print(f\"{i:3d} : {surf.reaction_equation(i):48s}  {cat_area_per_vol*surf.forward_rates_of_progress[i]:8.1g}\")\n",
    "    print(\"\\nHighest reverse rates of progress, gas\")\n",
    "    for i in np.argsort(abs(gas.reverse_rates_of_progress))[-1:-n:-1]: # top n in descending order\n",
    "        print(f\"{i:3d} : {gas.reaction_equation(i):48s}  {gas.reverse_rates_of_progress[i]:8.1g}\")\n",
    "    print(\"\\nHighest reverse rates of progress, surface\")\n",
    "    for i in np.argsort(abs(surf.reverse_rates_of_progress))[-1:-n:-1]: # top n in descending order\n",
    "        print(f\"{i:3d} : {surf.reaction_equation(i):48s}  {cat_area_per_vol*surf.reverse_rates_of_progress[i]:8.1g}\")\n",
    "\n",
    "    print(f\"\\nSurface rates have been scaled by surface/volume ratio {cat_area_per_vol:.1e} m2/m3\")\n",
    "    print(\"So are on a similar basis of volume of gas\")\n",
    "    print(\" kmol / m3 / s\")\n",
    "# report_rates()"
   ]
  },
  {
   "cell_type": "code",
   "execution_count": 14,
   "metadata": {
    "scrolled": false
   },
   "outputs": [
    {
     "name": "stdout",
     "output_type": "stream",
     "text": [
      "\n",
      "Highest forward rate constants, gas\n",
      "295 : CH2OH(45) + H2NO(88) <=> S(1108)                   3.7e+15\n",
      "382 : HCO(22) + NO(10) <=> CHNO2(397)                    3.7e+15\n",
      "474 : HCO(22) + HNOH(93) <=> ONCDO(266)                  3.7e+15\n",
      "479 : HCO(22) + HNO(630) <=> S(665)                      3.7e+15\n",
      "296 : CH2OH(45) + NO(10) <=> S(1494)                     3.7e+15\n",
      "241 : CH2OH(45) + NO2(9) <=> S(1216)                     3.7e+15\n",
      "596 : HCO(22) + NO2(9) <=> CHNO3(372)                    3.7e+15\n",
      "\n",
      "Highest forward rate constants, surface\n",
      "467 : CH2X(34) + HX(26) <=> CH3X(28) + X(1)              3.1e+21\n",
      " 83 : CHX(35) + HX(26) <=> CH2X(34) + X(1)               3.1e+21\n",
      " 94 : CHX(35) + X(1) <=> CX(33) + HX(26)                 3.1e+21\n",
      "141 : SX(1039) + X(1) <=> HX(26) + SX(1047)              3.7e+20\n",
      "745 : SX(1043) + X(1) <=> HX(26) + SX(1050)              3.7e+20\n",
      "358 : SX(1064) + X(1) <=> H2NX(201) + SX(1000)           6.8e+19\n",
      "683 : SX(4937) + X(1) <=> H2NOX(204) + OCX(32)           6.8e+19\n",
      "\n",
      "Highest reverse rate constants, gas\n",
      "471 : H2NO(88) + HCO(22) <=> S(674)                      3.8e+33\n",
      "502 : H2NO3(243) + S(665) <=> HNO3(4) + S(674)           3.9e+27\n",
      "295 : CH2OH(45) + H2NO(88) <=> S(1108)                   2.8e+25\n",
      "501 : H(20) + S(665) <=> S(674)                          4.0e+23\n",
      "577 : H2NO(88) + S(665) <=> HNO(87) + S(7627)            3.9e+23\n",
      "583 : 2 S(665) <=> CHNO2(397) + S(7627)                  1.5e+22\n",
      "508 : CH2OH(45) + S(665) <=> CH2O(17) + S(674)           1.1e+22\n",
      "\n",
      "Highest reverse rate constants, surface\n",
      "736 : N2O5(7142) + 2 X(1) <=> NO2X(206) + NO3X(4718)     5.9e+35\n",
      "798 : S(8965) + 2 X(1) <=> H2NX(201) + SX(4793)          1.2e+34\n",
      "399 : S(4541) + 2 X(1) <=> H2NX(201) + SX(1064)          5.6e+33\n",
      "353 : SX(3939) + X(1) <=> CX(33) + SX(605)               2.0e+33\n",
      "752 : HOX(29) + SX(1050) <=> OX(27) + SX(1043)           1.4e+32\n",
      "688 : SX(5810) + X(1) <=> HNO2X(513) + SX(605)           1.1e+32\n",
      "376 : SX(4539) + X(1) <=> NX(604) + SX(1064)             9.9e+31\n",
      "Units are a combination of kmol, m^3 and s, that depend on the rate expression for the reaction.\n"
     ]
    }
   ],
   "source": [
    "def report_rate_constants(n=8):\n",
    "    print(\"\\nHighest forward rate constants, gas\")\n",
    "    for i in np.argsort(abs(gas.forward_rate_constants))[-1:-n:-1]: # top n in descending order\n",
    "        print(f\"{i:3d} : {gas.reaction_equation(i):48s}  {gas.forward_rate_constants[i]:8.1e}\")\n",
    "    print(\"\\nHighest forward rate constants, surface\")\n",
    "    for i in np.argsort(abs(surf.forward_rate_constants))[-1:-n:-1]: # top n in descending order\n",
    "        print(f\"{i:3d} : {surf.reaction_equation(i):48s}  {surf.forward_rate_constants[i]:8.1e}\")\n",
    "    print(\"\\nHighest reverse rate constants, gas\")\n",
    "    for i in np.argsort(abs(gas.reverse_rate_constants))[-1:-n:-1]: # top n in descending order\n",
    "        print(f\"{i:3d} : {gas.reaction_equation(i):48s}  {gas.reverse_rate_constants[i]:8.1e}\")\n",
    "    print(\"\\nHighest reverse rate constants, surface\")\n",
    "    for i in np.argsort(abs(surf.reverse_rate_constants))[-1:-n:-1]: # top n in descending order\n",
    "        print(f\"{i:3d} : {surf.reaction_equation(i):48s}  {surf.reverse_rate_constants[i]:8.1e}\")\n",
    "\n",
    "    print(\"Units are a combination of kmol, m^3 and s, that depend on the rate expression for the reaction.\")\n",
    "report_rate_constants()"
   ]
  },
  {
   "cell_type": "code",
   "execution_count": 15,
   "metadata": {},
   "outputs": [],
   "source": [
    "def fix_rates(phase, limit):\n",
    "    \"\"\"\n",
    "    Fix reverse reaction rates that are too fast.\n",
    "    \"\"\"\n",
    "    for i in np.argsort(abs(phase.reverse_rate_constants))[-1:0:-1]:\n",
    "        if phase.reverse_rate_constants[i] < limit:\n",
    "            break\n",
    "        print(f\"Before: {i:3d} : {phase.reaction_equation(i):48s}  {phase.reverse_rate_constants[i]:8.1e}\")\n",
    "        multiplier = limit / phase.reverse_rate_constants[i]\n",
    "        phase.set_multiplier(multiplier, i)\n",
    "        print(f\"After:  {i:3d} : {phase.reaction_equation(i):48s}  {phase.reverse_rate_constants[i]:8.1e}\")\n",
    "        \n",
    "#fix_rates(gas, 1e18)\n",
    "#fix_rates(surf, 1e21)"
   ]
  },
  {
   "cell_type": "code",
   "execution_count": 16,
   "metadata": {},
   "outputs": [],
   "source": [
    "# print(\"\\nHighest forward rate constants, surface\")\n",
    "# for i in np.argsort(abs(surf.forward_rate_constants))[-1:-20:-1]: # top n in descending order\n",
    "#     print(f\"{i:3d} : {surf.reaction_equation(i):48s}  {surf.forward_rate_constants[i]:8.1e}\")\n"
   ]
  },
  {
   "cell_type": "code",
   "execution_count": 17,
   "metadata": {},
   "outputs": [],
   "source": [
    "def save_flux_diagrams(*phases, suffix=''):\n",
    "    \"\"\"\n",
    "    Saves the flux diagrams. The filenames have a suffix if provided,\n",
    "    so you can keep them separate and not over-write.\n",
    "    \"\"\"\n",
    "    for element in 'CHONX':\n",
    "        for phase_object in phases:\n",
    "            phase = phase_object.name\n",
    "\n",
    "            diagram = ct.ReactionPathDiagram(phase_object, element)\n",
    "            diagram.title = f'Reaction path diagram following {element} in {phase}'\n",
    "            diagram.label_threshold = 0.01\n",
    "\n",
    "            dot_file = f\"reaction_path_{element}_{phase}{'_' if suffix else ''}{suffix}.dot\"\n",
    "            img_file = f\"reaction_path_{element}_{phase}{'_' if suffix else ''}{suffix}.png\"\n",
    "            img_path = os.path.join(os.getcwd(), img_file)\n",
    "            diagram.write_dot(dot_file)\n",
    "            #print(diagram.get_data())\n",
    "\n",
    "            print(f\"Wrote graphviz input file to '{os.path.join(os.getcwd(), dot_file)}'.\")\n",
    "            os.system(f'dot {dot_file} -Tpng -o{img_file} -Gdpi=200')\n",
    "            print(f\"Wrote graphviz output file to '{img_path}'.\")\n",
    "\n",
    "def show_flux_diagrams(*phases, suffix='', embed=False):\n",
    "    \"\"\"\n",
    "    Shows the flux diagrams in the notebook.\n",
    "    Loads them from disk.\n",
    "    Does not embed them, to keep the .ipynb file small,\n",
    "    unless embed=True. Use embed=True if you might over-write the files,\n",
    "    eg. you want to show flux at different points.\n",
    "    \"\"\"\n",
    "    import IPython\n",
    "    for element in 'CHONX':\n",
    "        for phase_object in phases:\n",
    "            phase = phase_object.name\n",
    "            img_file = f\"reaction_path_{element}_{phase}{'_' if suffix else ''}{suffix}.png\"\n",
    "            display(IPython.display.HTML(f'<hr><h2>{element} {phase}</h2>'))\n",
    "            if embed:\n",
    "                display(IPython.display.Image(filename=img_file,width=400,embed=True))\n",
    "            else:\n",
    "                display(IPython.display.Image(url=img_file,width=400,embed=False))\n",
    "\n",
    "\n",
    "def integrated_flux_diagrams():\n",
    "    \"\"\"This is a code fragment. Not working. Do not use it.\"\"\"\n",
    "    for element in 'CHON':\n",
    "        diagrams = [ct.ReactionPathDiagram(surf, element), ct.ReactionPathDiagram(gas, element)]\n",
    "        for diagram in diagrams:\n",
    "            data = diagram.get_data()\n",
    "            split_data = data.split(\"\\n\")\n",
    "            for line in split_data[2:]:\n",
    "                if len(line.split()) == 0: # skip empty line\n",
    "                    continue\n",
    "                s1, s2, fwd, rev = line.split()\n",
    "                net = float(fwd) - float(rev)\n",
    "                if net == 0.0:\n",
    "                    continue\n",
    "                flux_pair = (s1, s2)\n",
    "                integration_flux_data[flux_pair] += net\n",
    "    "
   ]
  },
  {
   "cell_type": "markdown",
   "metadata": {},
   "source": [
    "#### Sticking Coefficient\n",
    "For adsorption reactions, the sticking coefficient is a number between 0 and 1 that assigns a probability of a gaseous reactant adsorbing to the catalyst surface and is used to calculate $k_f$: \n",
    "\n",
    "\\begin{equation}\n",
    "k_f = \\frac{\\gamma}{\\Gamma^m_{tot}}\\sqrt{\\frac{RT}{2 \\pi W}}\n",
    "\\end{equation}\n",
    "https://cantera.org/science/reactions.html\n",
    "\n",
    "$\\Gamma^m_{tot}$ =  surf.site_density raised to the \"m\" power\n",
    "\n",
    "m = sum of stoich coeffs of surface species (do not include gas)\n",
    "\n",
    "Must ensure that the sticking coefficient is less than 1 for all temperatures."
   ]
  },
  {
   "cell_type": "code",
   "execution_count": 33,
   "metadata": {},
   "outputs": [],
   "source": [
    "def stick_greater_than_1(T):\n",
    "    '''\n",
    "    For a given T  in Kelvin, returns a list of rxns for which Cantera \n",
    "    calculated the forward rate constant based on a sticking coefficient\n",
    "    greater than 1\n",
    "    '''\n",
    "    violators = []\n",
    "    sticks = []\n",
    "    violator_rxn_indeces = []\n",
    "    for j in range(len(surf.reactions())):\n",
    "        for key in surf.reactions()[j].reactants:\n",
    "            if key in gas.species_names: #if one of the reactants is a gas- i.e. if it is adsorption rxn\n",
    "                k = gas.species_names.index(key) #k is index of gaseous reactant\n",
    "                R = ct.gas_constant #J/kmol-K    \n",
    "                \n",
    "                ## surf.reactant_stoich_coeff(k,j) gives the stoich coeff of reactant k in rxn j ##\n",
    "                # m is the sum of the species on the surface's stoichiometric coefficients\n",
    "                # to find m, take the sum of all the reactant stoich coeffs for this reaction,\n",
    "                # then subtract the stoich coeff of the gaseous species \n",
    "                # (there is always only 1 gaseous species)\n",
    "                m = sum(surf.reactant_stoich_coeffs()[:,j])-surf.reactant_stoich_coeff(k,j)\n",
    "                \n",
    "                gamma = surf.site_density #kmol/m^2\n",
    "                W = gas.molecular_weights[k] #MW of gas kg/kmol\n",
    "                stick = surf.forward_rate_constants[j]*gamma**m/(np.sqrt(R*T/(2*np.pi*gas.molecular_weights[k])))\n",
    "                violation = stick > 1\n",
    "                if violation:\n",
    "                    violators.append(surf.reaction(j))\n",
    "                    sticks.append(stick)\n",
    "                    violator_rxn_indeces.append(j)\n",
    "\n",
    "    return violators,sticks,violator_rxn_indeces"
   ]
  },
  {
   "cell_type": "code",
   "execution_count": 28,
   "metadata": {},
   "outputs": [],
   "source": [
    "gas.TPX = temperature_kelvin, pressure, feed_mole_fractions\n",
    "surf.coverages = 'X(1):1.0'\n",
    "#surf.coverages = starting_coverages"
   ]
  },
  {
   "cell_type": "code",
   "execution_count": 34,
   "metadata": {
    "scrolled": false
   },
   "outputs": [
    {
     "name": "stdout",
     "output_type": "stream",
     "text": [
      "    distance(mm)     T (C)    NH3(2)   NH2OH(3)     HNO3(4)    CH3OH(5)  alpha\n",
      "      0.000000    666.6    0.041945    0.248729    0.348914   0.182136  1.0e+00\n"
     ]
    },
    {
     "ename": "KeyboardInterrupt",
     "evalue": "",
     "output_type": "error",
     "traceback": [
      "\u001b[0;31m---------------------------------------------------------------------------\u001b[0m",
      "\u001b[0;31mKeyboardInterrupt\u001b[0m                         Traceback (most recent call last)",
      "\u001b[0;32m<ipython-input-34-3a91391d9edf>\u001b[0m in \u001b[0;36m<module>\u001b[0;34m\u001b[0m\n\u001b[1;32m    130\u001b[0m     \u001b[0;31m# Comment this out if you don't need it because it is very slow\u001b[0m\u001b[0;34m\u001b[0m\u001b[0;34m\u001b[0m\u001b[0;34m\u001b[0m\u001b[0m\n\u001b[1;32m    131\u001b[0m     \u001b[0;31m##############################################################\u001b[0m\u001b[0;34m\u001b[0m\u001b[0;34m\u001b[0m\u001b[0;34m\u001b[0m\u001b[0m\n\u001b[0;32m--> 132\u001b[0;31m     \u001b[0mrxns\u001b[0m\u001b[0;34m,\u001b[0m \u001b[0mvalues\u001b[0m\u001b[0;34m,\u001b[0m \u001b[0mindeces\u001b[0m \u001b[0;34m=\u001b[0m \u001b[0mstick_greater_than_1\u001b[0m\u001b[0;34m(\u001b[0m\u001b[0msurf\u001b[0m\u001b[0;34m.\u001b[0m\u001b[0mT\u001b[0m\u001b[0;34m)\u001b[0m\u001b[0;34m\u001b[0m\u001b[0;34m\u001b[0m\u001b[0m\n\u001b[0m\u001b[1;32m    133\u001b[0m \u001b[0;34m\u001b[0m\u001b[0m\n\u001b[1;32m    134\u001b[0m     \u001b[0mviolating_rxns\u001b[0m\u001b[0;34m.\u001b[0m\u001b[0mappend\u001b[0m\u001b[0;34m(\u001b[0m\u001b[0mrxns\u001b[0m\u001b[0;34m)\u001b[0m\u001b[0;34m\u001b[0m\u001b[0;34m\u001b[0m\u001b[0m\n",
      "\u001b[0;32m<ipython-input-33-0dc23de82955>\u001b[0m in \u001b[0;36mstick_greater_than_1\u001b[0;34m(T)\u001b[0m\n\u001b[1;32m     19\u001b[0m                 \u001b[0;31m# then subtract the stoich coeff of the gaseous species\u001b[0m\u001b[0;34m\u001b[0m\u001b[0;34m\u001b[0m\u001b[0;34m\u001b[0m\u001b[0m\n\u001b[1;32m     20\u001b[0m                 \u001b[0;31m# (there is always only 1 gaseous species)\u001b[0m\u001b[0;34m\u001b[0m\u001b[0;34m\u001b[0m\u001b[0;34m\u001b[0m\u001b[0m\n\u001b[0;32m---> 21\u001b[0;31m                 \u001b[0mm\u001b[0m \u001b[0;34m=\u001b[0m \u001b[0msum\u001b[0m\u001b[0;34m(\u001b[0m\u001b[0msurf\u001b[0m\u001b[0;34m.\u001b[0m\u001b[0mreactant_stoich_coeffs\u001b[0m\u001b[0;34m(\u001b[0m\u001b[0;34m)\u001b[0m\u001b[0;34m[\u001b[0m\u001b[0;34m:\u001b[0m\u001b[0;34m,\u001b[0m\u001b[0mj\u001b[0m\u001b[0;34m]\u001b[0m\u001b[0;34m)\u001b[0m\u001b[0;34m-\u001b[0m\u001b[0msurf\u001b[0m\u001b[0;34m.\u001b[0m\u001b[0mreactant_stoich_coeff\u001b[0m\u001b[0;34m(\u001b[0m\u001b[0mk\u001b[0m\u001b[0;34m,\u001b[0m\u001b[0mj\u001b[0m\u001b[0;34m)\u001b[0m\u001b[0;34m\u001b[0m\u001b[0;34m\u001b[0m\u001b[0m\n\u001b[0m\u001b[1;32m     22\u001b[0m \u001b[0;34m\u001b[0m\u001b[0m\n\u001b[1;32m     23\u001b[0m                 \u001b[0mgamma\u001b[0m \u001b[0;34m=\u001b[0m \u001b[0msurf\u001b[0m\u001b[0;34m.\u001b[0m\u001b[0msite_density\u001b[0m \u001b[0;31m#kmol/m^2\u001b[0m\u001b[0;34m\u001b[0m\u001b[0;34m\u001b[0m\u001b[0m\n",
      "\u001b[0;31mKeyboardInterrupt\u001b[0m: "
     ]
    }
   ],
   "source": [
    "# The plug flow reactor is represented by a linear chain of zero-dimensional\n",
    "# reactors. The gas at the inlet to the first one has the specified inlet\n",
    "# composition, and for all others the inlet composition is fixed at the\n",
    "# composition of the reactor immediately upstream. Since in a PFR model there\n",
    "# is no diffusion, the upstream reactors are not affected by any downstream\n",
    "# reactors, and therefore the problem may be solved by simply marching from\n",
    "# the first to last reactor, integrating each one to steady state.\n",
    "\n",
    "TDY = gas.TDY\n",
    "cov = surf.coverages\n",
    "\n",
    "# create a new reactor\n",
    "gas.TDY = TDY\n",
    "r = ct.IdealGasReactor(gas, energy='on')\n",
    "r.volume = r_vol\n",
    "\n",
    "# create a reservoir to represent the reactor immediately upstream. Note\n",
    "# that the gas object is set already to the state of the upstream reactor\n",
    "upstream = ct.Reservoir(gas, name='upstream')\n",
    "\n",
    "# create a reservoir for the reactor to exhaust into. The composition of\n",
    "# this reservoir is irrelevant.\n",
    "downstream = ct.Reservoir(gas, name='downstream')\n",
    "\n",
    "# Add the reacting surface to the reactor. The area is set to the desired\n",
    "# catalyst area in the reactor.\n",
    "rsurf = ct.ReactorSurface(surf, r, A=cat_area)\n",
    "\n",
    "# The mass flow rate into the reactor will be fixed by using a\n",
    "# MassFlowController object.\n",
    "m = ct.MassFlowController(upstream, r, mdot=mass_flow_rate)\n",
    "\n",
    "# We need an outlet to the downstream reservoir. This will determine the\n",
    "# pressure in the reactor. The value of K will only affect the transient\n",
    "# pressure difference.\n",
    "v = ct.PressureController(r, downstream, master=m, K=1e-5)\n",
    "\n",
    "sim = ct.ReactorNet([r])\n",
    "sim.max_err_test_fails = 24\n",
    "\n",
    "# set relative and absolute tolerances on the simulation\n",
    "sim.rtol = rtol\n",
    "sim.atol = atol\n",
    "\n",
    "sim.verbose = False\n",
    "\n",
    "# surf.set_multiplier(0.)  # turn off surface reactions\n",
    "# surf.set_multiplier(1e6)  # make surface reactions a million times faster\n",
    "\n",
    "r.volume = r_vol\n",
    "# rsurf.area = cat_area\n",
    "\n",
    "integration_flux_data = defaultdict(float)\n",
    "\n",
    "outfile = open(output_filename,'w')\n",
    "writer = csv.writer(outfile)\n",
    "writer.writerow(['Distance (mm)', 'T (C)', 'P (atm)'] +\n",
    "                gas.species_names + surf.species_names + ['gas_heat','surface_heat','alpha'])\n",
    "\n",
    "print('    distance(mm)     T (C)    NH3(2)   NH2OH(3)     HNO3(4)    CH3OH(5)  alpha')\n",
    "\n",
    "violating_rxns = []\n",
    "violating_sticks = []\n",
    "violating_indeces = []\n",
    "\n",
    "for n in range(NReactors):\n",
    "    \"\"\"\n",
    "    if n == 0: # first coulpe of reactors are tiny\n",
    "        surf.set_multiplier(0.)\n",
    "        r.volume = r_vol * 1e-2\n",
    "        rsurf.area = cat_area * 1e-2\n",
    "    if n == 3:\n",
    "        r.volume = r_vol\n",
    "        rsurf.area = cat_area\"\"\"\n",
    "        \n",
    "#     if n == 0: # start off with inert packing, no surface reactions\n",
    "#         surf.set_multiplier(0.)\n",
    "#     if n == int(0.001 * NReactors / length): # after 1 mm, catalyst\n",
    "#         surf.set_multiplier(1)\n",
    "        \n",
    "#         fix_rates(surf, 1e22)\n",
    "#         save_flux_diagrams(gas, surf, suffix='1mm')\n",
    "#         show_flux_diagrams(gas, surf, suffix='1mm', embed=True)\n",
    "    \n",
    "    # Set the state of the reservoir to match that of the previous reactor\n",
    "    gas.TDY = TDY = r.thermo.TDY \n",
    "#     cov = surf.coverages\n",
    "    upstream.syncState()\n",
    "    sim.reinitialize()\n",
    "\n",
    "    try:\n",
    "#       the default is residual_threshold = sim.rtol*10\n",
    "#         sim.advance_to_steady_state(residual_threshold = residual_threshold)\n",
    "        sim.advance_to_steady_state()\n",
    "    except ct.CanteraError:\n",
    "        t = sim.time\n",
    "        sim.set_initial_time(0)\n",
    "        gas.TDY = TDY\n",
    "        surf.coverages = cov\n",
    "        r.syncState()\n",
    "        sim.reinitialize()\n",
    "        new_target_time = 0.01 * t\n",
    "        print(f\"Couldn't reach {t:.1g} s so going to try {new_target_time:.1g} s\")\n",
    "        #save_flux_diagrams(gas, surf)\n",
    "        #show_flux_diagrams(gas, surf, embed=True)\n",
    "        report_rates()\n",
    "        report_rate_constants()\n",
    "        try:\n",
    "            sim.advance(new_target_time)\n",
    "        except ct.CanteraError:\n",
    "            outfile.close()\n",
    "            raise()\n",
    "            #report_rate_constants()\n",
    " \n",
    "    dist = n * r_len * 1.0e3   # distance in mm\n",
    "        \n",
    "    gas_heat = np.dot(gas.net_rates_of_progress, gas.delta_enthalpy) # heat evolved by gas phase reaction\n",
    "    surface_heat = cat_area_per_vol * np.dot(surf.net_rates_of_progress, surf.delta_enthalpy) # heat evolved by surf phase reaction \n",
    "    alpha = surface_heat / (surface_heat + gas_heat) # fraction of heat release that is on surface.\n",
    "    \n",
    "    if not n % 10:\n",
    "        print('    {:10f}  {:7.1f}  {:10f}  {:10f}  {:10f} {:10f}  {:5.1e}'.format(dist, r.T-273.15, *gas['NH3(2)','NH2OH(3)','HNO3(4)','CH3OH(5)'].X, alpha ))\n",
    "\n",
    "    # write the gas mole fractions and surface coverages vs. distance\n",
    "    writer.writerow([dist, r.T - 273.15, r.thermo.P/ct.one_atm] +\n",
    "                    list(gas.X) + list(surf.coverages) + [gas_heat, surface_heat, alpha])\n",
    "    \n",
    "    ############################################################## \n",
    "    # To check for sticking coefficient >1. \n",
    "    # Comment this out if you don't need it because it is very slow\n",
    "    ##############################################################\n",
    "    rxns, values, indeces = stick_greater_than_1(surf.T)\n",
    "    \n",
    "    violating_rxns.append(rxns)\n",
    "    violating_sticks.append(values)\n",
    "    violating_indeces.append(indeces)\n",
    "    ##############################################################\n",
    "\n",
    "outfile.close()\n",
    "print(\"Results saved to '{0}'\".format(output_filename))\n",
    "\n",
    "# with open(\"integration_flux_data.txt\",'w') as f:\n",
    "#     for (sp1,sp2),flux in integration_flux_data.items():\n",
    "#         f.write(\"{} {} {}\\n\".format(sp1,sp2,flux))\n",
    "            "
   ]
  },
  {
   "cell_type": "code",
   "execution_count": 30,
   "metadata": {},
   "outputs": [
    {
     "data": {
      "text/plain": [
       "[<InterfaceReaction: NO2(9) + X(1) <=> NO2X(216)>,\n",
       " <InterfaceReaction: NO3(95) + X(1) <=> NO3X(207)>]"
      ]
     },
     "execution_count": 30,
     "metadata": {},
     "output_type": "execute_result"
    }
   ],
   "source": [
    "violating_rxns[0]"
   ]
  },
  {
   "cell_type": "code",
   "execution_count": 31,
   "metadata": {},
   "outputs": [
    {
     "data": {
      "text/plain": [
       "[1.6999999999999995, 2.5499999999999994]"
      ]
     },
     "execution_count": 31,
     "metadata": {},
     "output_type": "execute_result"
    }
   ],
   "source": [
    "violating_sticks[0] "
   ]
  },
  {
   "cell_type": "code",
   "execution_count": 32,
   "metadata": {},
   "outputs": [
    {
     "data": {
      "text/plain": [
       "[178, 390]"
      ]
     },
     "execution_count": 32,
     "metadata": {},
     "output_type": "execute_result"
    }
   ],
   "source": [
    "violating_indeces[0]"
   ]
  },
  {
   "cell_type": "code",
   "execution_count": null,
   "metadata": {},
   "outputs": [],
   "source": [
    "sim.time"
   ]
  },
  {
   "cell_type": "code",
   "execution_count": null,
   "metadata": {},
   "outputs": [],
   "source": [
    "gas.TDY = TDY\n",
    "r.syncState()\n",
    "r.thermo.T"
   ]
  },
  {
   "cell_type": "code",
   "execution_count": null,
   "metadata": {},
   "outputs": [],
   "source": [
    "r.thermo.X - gas.X"
   ]
  },
  {
   "cell_type": "code",
   "execution_count": null,
   "metadata": {},
   "outputs": [],
   "source": [
    "report_rate_constants()"
   ]
  },
  {
   "cell_type": "code",
   "execution_count": null,
   "metadata": {},
   "outputs": [],
   "source": [
    "sim.verbose"
   ]
  },
  {
   "cell_type": "code",
   "execution_count": null,
   "metadata": {},
   "outputs": [],
   "source": [
    "plt.barh(np.arange(len(gas.net_rates_of_progress)),gas.net_rates_of_progress)"
   ]
  },
  {
   "cell_type": "code",
   "execution_count": null,
   "metadata": {},
   "outputs": [],
   "source": [
    "gas.T"
   ]
  },
  {
   "cell_type": "code",
   "execution_count": null,
   "metadata": {},
   "outputs": [],
   "source": [
    "data = pd.read_csv(output_filename)\n",
    "data"
   ]
  },
  {
   "cell_type": "code",
   "execution_count": null,
   "metadata": {},
   "outputs": [],
   "source": [
    "def xlabels():\n",
    "    ticks = []\n",
    "    labels = []\n",
    "    mm = 0\n",
    "    while mm < length*1000:\n",
    "        ticks.append( int(NReactors * mm * 0.001 / length ) )\n",
    "        labels.append( str(mm) )\n",
    "        mm += 1\n",
    "    labels[-1] = labels[-1] + ' mm'\n",
    "    plt.xticks(ticks, labels)\n",
    "    plt.xlabel(\"Distance down reactor\")"
   ]
  },
  {
   "cell_type": "code",
   "execution_count": null,
   "metadata": {},
   "outputs": [],
   "source": [
    "data['T (C)'].plot()\n",
    "plt.ylabel('T (C)')\n",
    "xlabels()"
   ]
  },
  {
   "cell_type": "code",
   "execution_count": null,
   "metadata": {},
   "outputs": [],
   "source": [
    "data[['NH2OH(3)', 'HNO3(4)', 'CH3OH(5)']].plot()\n",
    "plt.ylabel('Mole fraction')\n",
    "xlabels()"
   ]
  },
  {
   "cell_type": "code",
   "execution_count": null,
   "metadata": {},
   "outputs": [],
   "source": [
    "list(data.columns)[:4]"
   ]
  },
  {
   "cell_type": "code",
   "execution_count": null,
   "metadata": {},
   "outputs": [],
   "source": [
    "data[['T (C)', 'alpha']].plot()\n",
    "xlabels()"
   ]
  },
  {
   "cell_type": "code",
   "execution_count": null,
   "metadata": {},
   "outputs": [],
   "source": [
    "ax1 = data['T (C)'].plot()\n",
    "plt.ylabel('Temperature (C)')\n",
    "xlabels()\n",
    "plt.legend()\n",
    "ax2 = ax1.twinx()\n",
    "data['alpha'].plot(ax=ax2, color='tab:orange')\n",
    "ax2.set_ylim(-2, 2)\n",
    "plt.legend()\n",
    "plt.ylabel('alpha')\n",
    "plt.tight_layout()\n",
    "plt.savefig('temperature-and-alpha.pdf')\n",
    "plt.show()"
   ]
  },
  {
   "cell_type": "code",
   "execution_count": null,
   "metadata": {},
   "outputs": [],
   "source": [
    "data.columns"
   ]
  },
  {
   "cell_type": "code",
   "execution_count": null,
   "metadata": {},
   "outputs": [],
   "source": [
    "data[['gas_heat','surface_heat']].plot()\n",
    "#plt.ylim(-1e7, 1e7)\n",
    "xlabels()\n",
    "plt.savefig('gas_and_surface_heat.pdf')\n",
    "plt.show()\n"
   ]
  },
  {
   "cell_type": "code",
   "execution_count": null,
   "metadata": {},
   "outputs": [],
   "source": [
    "ax1 = data[['gas_heat','surface_heat']].plot()\n",
    "plt.ylim(-1e9, 1e9)\n",
    "xlabels()\n",
    "plt.ylabel('Heat consumption rate (kJ/m3/s)')\n",
    "plt.legend(loc='upper left')\n",
    "ax2 = ax1.twinx()\n",
    "data['alpha'].plot(ax=ax2, style='k:', alpha=0.5)\n",
    "ax2.set_ylim(-10, 10)\n",
    "plt.legend(loc='lower right')\n",
    "plt.ylabel('alpha')\n",
    "plt.tight_layout()\n",
    "plt.savefig('heats-and-alpha.pdf')\n",
    "plt.show()"
   ]
  },
  {
   "cell_type": "code",
   "execution_count": null,
   "metadata": {},
   "outputs": [],
   "source": [
    "data[['T (C)']].plot()\n",
    "plt.ylabel('Temperature (C)')\n",
    "xlabels()\n",
    "plt.tight_layout()\n",
    "plt.savefig('temperature.pdf')\n",
    "plt.show()"
   ]
  },
  {
   "cell_type": "code",
   "execution_count": null,
   "metadata": {},
   "outputs": [],
   "source": [
    "data[['alpha']].plot(logy=True)\n",
    "xlabels()"
   ]
  },
  {
   "cell_type": "code",
   "execution_count": null,
   "metadata": {},
   "outputs": [],
   "source": [
    "data.plot(x='T (C)',y='alpha')\n"
   ]
  },
  {
   "cell_type": "code",
   "execution_count": null,
   "metadata": {},
   "outputs": [],
   "source": [
    "specs = list(data.columns)\n",
    "specs = specs[4:-3]\n",
    "excluded = [s for s in data.columns if s not in specs]\n",
    "gas_species = [s for s in specs if 'X' not in s ]\n",
    "adsorbates = [s for s in specs if 'X' in s]\n",
    "\n",
    "excluded, gas_species, adsorbates"
   ]
  },
  {
   "cell_type": "code",
   "execution_count": null,
   "metadata": {},
   "outputs": [],
   "source": [
    "data[gas_species[0:5]].plot(logy=True, logx=True)"
   ]
  },
  {
   "cell_type": "code",
   "execution_count": null,
   "metadata": {
    "scrolled": false
   },
   "outputs": [],
   "source": [
    "for i in range(0,len(gas_species),10):\n",
    "    data[gas_species[i:i+10]].plot(title='Gas mole fraction', logy=False)\n",
    "    xlabels()\n",
    "    plt.ylabel('Mole fraction')\n",
    "    plt.tight_layout()\n",
    "    plt.savefig(f'gas_mole_fractions_{i}.pdf')\n",
    "    plt.show()\n",
    "    \n"
   ]
  },
  {
   "cell_type": "code",
   "execution_count": null,
   "metadata": {
    "scrolled": false
   },
   "outputs": [],
   "source": [
    "for i in range(0,len(adsorbates),10):\n",
    "    data[adsorbates[i:i+10]].plot(title='Surface coverages', logy=False)\n",
    "    xlabels()\n",
    "    plt.xlim(0,len(data)+5)\n",
    "    plt.ylabel('Surface coverage')\n",
    "    plt.tight_layout()\n",
    "    plt.savefig(f'surface_coverages_{i}.pdf')\n",
    "    plt.show()"
   ]
  },
  {
   "cell_type": "code",
   "execution_count": null,
   "metadata": {},
   "outputs": [],
   "source": [
    "main_gas_species = data[gas_species].max().sort_values(ascending=False)[:10].keys()\n",
    "data[main_gas_species].plot.area()\n",
    "\n",
    "xlabels()\n",
    "plt.xlim(0,len(data)+5)\n",
    "plt.tight_layout()\n",
    "plt.savefig(f'gas_mole_fractions_top10.pdf')\n",
    "plt.show()"
   ]
  },
  {
   "cell_type": "code",
   "execution_count": null,
   "metadata": {},
   "outputs": [],
   "source": [
    "main_adsorbates = data[adsorbates].max().sort_values(ascending=False)[:10].keys()\n",
    "data[main_adsorbates].plot.area()\n",
    "\n",
    "xlabels()\n",
    "plt.xlim(190,len(data)+5)\n",
    "plt.tight_layout()\n",
    "plt.savefig(f'surface_coverages_top10.pdf')\n",
    "plt.show()\n",
    "    "
   ]
  },
  {
   "cell_type": "code",
   "execution_count": null,
   "metadata": {},
   "outputs": [],
   "source": [
    "for a in main_adsorbates:\n",
    "    s = surf.species(a)\n",
    "    print(s, s.composition)"
   ]
  },
  {
   "cell_type": "code",
   "execution_count": null,
   "metadata": {},
   "outputs": [],
   "source": [
    "surf.coverages"
   ]
  },
  {
   "cell_type": "code",
   "execution_count": null,
   "metadata": {},
   "outputs": [],
   "source": [
    "surf.set_multiplier(1)\n",
    "diagram = ct.ReactionPathDiagram(surf, 'X')\n",
    "diagram.get_data()"
   ]
  },
  {
   "cell_type": "code",
   "execution_count": null,
   "metadata": {
    "scrolled": false
   },
   "outputs": [],
   "source": [
    "\n"
   ]
  },
  {
   "cell_type": "code",
   "execution_count": null,
   "metadata": {},
   "outputs": [],
   "source": []
  },
  {
   "cell_type": "code",
   "execution_count": null,
   "metadata": {},
   "outputs": [],
   "source": [
    "last_row = np.array(data.tail(1))\n",
    "np.shape(last_row)"
   ]
  },
  {
   "cell_type": "code",
   "execution_count": null,
   "metadata": {},
   "outputs": [],
   "source": [
    "output_filename"
   ]
  }
 ],
 "metadata": {
  "kernelspec": {
   "display_name": "Python 3",
   "language": "python",
   "name": "python3"
  },
  "language_info": {
   "codemirror_mode": {
    "name": "ipython",
    "version": 3
   },
   "file_extension": ".py",
   "mimetype": "text/x-python",
   "name": "python",
   "nbconvert_exporter": "python",
   "pygments_lexer": "ipython3",
   "version": "3.7.7"
  }
 },
 "nbformat": 4,
 "nbformat_minor": 2
}
