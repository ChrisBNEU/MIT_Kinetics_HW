{
 "cells": [
  {
   "cell_type": "markdown",
   "metadata": {},
   "source": [
    "# HW3 Problem 3 #"
   ]
  },
  {
   "cell_type": "markdown",
   "metadata": {},
   "source": [
    "3) Experimentally, one could try to measure the rate of ring-closing by making the ring-opened  species  (e.g.  by  flash  photolysis  of  hexenyl  iodide,  forms  the  hexen-6-yl  radical instantaneously at t=0) and trapping that acylic species, e.g. by adding NO and analyzing for the acyclic  nitroso  product  species.   (NO  reacts  very  quickly  with  most  radicals  to  form stable nitroso compounds, k~1e13 cm3/mole-s).    The competing reactions are: \n",
    "\n",
    "CH2=CHCH2CH2CH2CH2 = cyclohexyl radical          \n",
    "\n",
    "CH2=CHCH2CH2CH2CH2 + NO = CH2=CHCH2CH2CH2CH2NO\n",
    "\n",
    "Approximately  what  partial pressure  of  NO  would  be  required  to  trap  1%  of  the  ring-opened species hexen-6-yl before they ring-closed at 500 K?"
   ]
  },
  {
   "cell_type": "code",
   "execution_count": 59,
   "metadata": {},
   "outputs": [],
   "source": [
    "# add appropriate modules\n",
    "import pandas as pd\n",
    "import numpy as np\n",
    "import time\n",
    "import cantera as ct\n",
    "from matplotlib import pyplot as plt\n",
    "import csv\n",
    "import math\n",
    "from operator import add\n",
    "\n",
    "from IPython.display import Image"
   ]
  },
  {
   "cell_type": "markdown",
   "metadata": {},
   "source": [
    "By the calculations below, it appears that an initial mole fraction of 0.01 (Partial Pressure  for NO ~ 510 Pa) captures 1% of the straight chain species\n"
   ]
  },
  {
   "cell_type": "code",
   "execution_count": 75,
   "metadata": {},
   "outputs": [
    {
     "name": "stdout",
     "output_type": "stream",
     "text": [
      "['He', 'C6H11R', 'C6H11', 'NO', 'C6H11NO']\n"
     ]
    },
    {
     "data": {
      "text/plain": [
       "Text(0, 0.5, 'C6H11NO final mole Fraction')"
      ]
     },
     "execution_count": 75,
     "metadata": {},
     "output_type": "execute_result"
    },
    {
     "data": {
      "image/png": "[encoded data removed]",
      "text/plain": [
       "<Figure size 432x288 with 1 Axes>"
      ]
     },
     "metadata": {
      "needs_background": "light"
     },
     "output_type": "display_data"
    }
   ],
   "source": [
    "# Equilibrium calcs \n",
    "cti_file = '/Users/blais.ch/_01_code/MIT_Kinetics_HW/assignments/HW3/P3/Thermo.cti'\n",
    "gas = ct.Solution(cti_file)\n",
    "\n",
    "# Reactor conditions\n",
    "reactorTemperature = 500  # Kelvin\n",
    "reactorPressure = ct.one_atm \n",
    "concentrations = {'NO': 0.5, 'C6H11': 0.5}\n",
    "gas.TPX = reactorTemperature, reactorPressure, concentrations \n",
    "ratio = []\n",
    "equilib = []\n",
    "NOconcs=testlist = np.arange(0.001, 0.011, 0.0001).tolist()\n",
    "P_NO = []\n",
    "C6H11concs = []\n",
    "for i in range(len(NOconcs)):\n",
    "    P_NO.append(NOconcs[i]*reactorPressure)\n",
    "    C6H11concs.append(1-NOconcs[i])\n",
    "    \n",
    "\n",
    "ROSpeciesX = []\n",
    "\n",
    "print(gas.species_names)\n",
    "for i in range(len(NOconcs)):\n",
    "    concentrations = {'NO': NOconcs[i], 'C6H11': C6H11concs[i]}\n",
    "    gas.TPX = reactorTemperature, reactorPressure, concentrations\n",
    "    gas.equilibrate('TP')\n",
    "    ratio.append(gas.X[4]/0.5)\n",
    "    ROSpeciesX.append(gas.X[4])\n",
    "    equilib.append(gas.equilibrium_constants[1])\n",
    "#     print('Partial Pressure NO start',':', P_NO[i], 'mole ratio of C6H11 to nitroso product: ', ratio[i])\n",
    "#     print(gas.X)\n",
    "\n",
    "\n",
    "\n",
    "plt.plot(P_NO, ratio)\n",
    "plt.xlabel('NO Partial Pressure (Pa)')\n",
    "plt.ylabel('C6H11NO final mole Fraction')"
   ]
  }
 ],
 "metadata": {
  "kernelspec": {
   "display_name": "Python 3",
   "language": "python",
   "name": "python3"
  },
  "language_info": {
   "codemirror_mode": {
    "name": "ipython",
    "version": 3
   },
   "file_extension": ".py",
   "mimetype": "text/x-python",
   "name": "python",
   "nbconvert_exporter": "python",
   "pygments_lexer": "ipython3",
   "version": "3.7.7"
  }
 },
 "nbformat": 4,
 "nbformat_minor": 4
}
