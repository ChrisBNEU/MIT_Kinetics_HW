{
 "cells": [
  {
   "cell_type": "markdown",
   "metadata": {},
   "source": [
    "# HW3 Problem 1 #\n"
   ]
  },
  {
   "cell_type": "markdown",
   "metadata": {},
   "source": [
    "Use  a Benson-type  Group  Additivity  Method  to  estimate  the  thermochemical  parameters  (enthalpy  of  formation,  entropy  of  formation,  heat  capacity)  for  two  different  C6H11  radicals:    cyclohexyl  radical  and  hexen-6-yl  radical.    Then  compute  the  temperature at which these two radicals would be in 50:50 equilibrium (i.e. Keq = 1) for the ring-opening reaction (i.e. cyclohexyl radical <=> hexen-6-yl radical).  The hexen-6-yl  radical  is  CH2CHCH2CH2CH2CH2.  Remember  you  can  use  EQUIL  in  CHEMKIN  or  CANTERA to do this calculation."
   ]
  },
  {
   "cell_type": "code",
   "execution_count": 8,
   "metadata": {},
   "outputs": [],
   "source": [
    "# add appropriate modules\n",
    "import pandas as pd\n",
    "import numpy as np\n",
    "import time\n",
    "import cantera as ct\n",
    "from matplotlib import pyplot as plt\n",
    "import csv\n",
    "import math\n",
    "from operator import add\n",
    "\n",
    "from IPython.display import Image"
   ]
  },
  {
   "cell_type": "markdown",
   "metadata": {},
   "source": [
    "RMG Groups used for Group additivity estimates:\n",
    "\n",
    "cyclohexane Radical:\n",
    "\n",
    "group(Cs-CsCsHH) * 6 +\n",
    "ring(Cyclohexane) +\n",
    "radical(cyclohexane)"
   ]
  },
  {
   "cell_type": "markdown",
   "metadata": {},
   "source": [
    "Hexene species:\n",
    "\n",
    "group(Cs-CsCsHH)\n",
    "group(Cs-CsCsHH)\n",
    "group(Cs-CsCsHH)\n",
    "group(Cs-CsCsHH)\n",
    "group(Cs-CsHHH)\n",
    "group(Cs-CsHHH)\n",
    "radical(RCCJC)\n",
    "radical(RCCJ)\n",
    "radical(RCCJ)"
   ]
  },
  {
   "cell_type": "code",
   "execution_count": 11,
   "metadata": {},
   "outputs": [
    {
     "name": "stdout",
     "output_type": "stream",
     "text": [
      "1200  :  2.4027855428886697  :  [-47.51739103 -46.64076233]  :  0.4161836261082972\n",
      "1300  :  1.087919454854679  :  [-49.74399712 -49.65973   ]  :  0.919185694802725\n",
      "1305  :  1.04937315834518  :  [-49.85266167 -49.80446867]  :  0.9529498558710617\n",
      "1311.7  :  1.0003374835558387  :  [-49.99789093 -49.9975535 ]  :  0.9996626303008871\n",
      "1312  :  0.9982090852666379  :  [-50.00438357 -50.00617609]  :  1.0017941278633862\n",
      "1325  :  0.9111486511830291  :  [-50.2849001  -50.37794932]  :  1.0975157551971424\n",
      "1350  :  0.7687516907355341  :  [-50.81985189 -51.08283915]  :  1.3008101472182907\n",
      "1400  :  0.5585952757889557  :  [-51.87252379 -52.45485388]  :  1.7902049002967442\n",
      "1500  :  0.3170722913523699  :  [-53.91286485 -55.06149034]  :  3.153854900832934\n",
      "2000  :  0.04906455716231866  :  [-63.03226273 -66.04688109]  :  20.381311028483005\n",
      "equilibrium constant = 1 at 1312K\n"
     ]
    },
    {
     "data": {
      "text/plain": [
       "[<matplotlib.lines.Line2D at 0x7fb388c9d3d0>]"
      ]
     },
     "execution_count": 11,
     "metadata": {},
     "output_type": "execute_result"
    },
    {
     "data": {
      "image/png": "[encoded data removed]",
      "text/plain": [
       "<Figure size 432x288 with 2 Axes>"
      ]
     },
     "metadata": {
      "needs_background": "light"
     },
     "output_type": "display_data"
    }
   ],
   "source": [
    "# Equilibrium calcs \n",
    "cti_file = '/Users/blais.ch/_01_code/MIT_Kinetics_HW/assignments/HW3/P1/Thermo.cti'\n",
    "gas = ct.Solution(cti_file)\n",
    "\n",
    "# Gas conditions\n",
    "reactorTemperature = 1000  # Kelvin\n",
    "reactorPressure = ct.one_atm \n",
    "concentrations = {'C6H11R': 0.5, 'C6H11': 0.5}\n",
    "gas.TPX = reactorTemperature, reactorPressure, concentrations \n",
    "ratio = []\n",
    "equilib = []\n",
    "temps = [1200, 1300, 1305, 1311.7, 1312, 1325, 1350, 1400, 1500, 2000]\n",
    "\n",
    "for i in range(len(temps)):\n",
    "    reactorTemperature = temps[i]\n",
    "    gas.TPX = reactorTemperature, reactorPressure, concentrations\n",
    "    gas.equilibrate('TP')\n",
    "    ratio.append(gas.concentrations[0]/gas.concentrations[1])\n",
    "    equilib.append(math.exp(gas.standard_gibbs_RT[0]-gas.standard_gibbs_RT[1]))\n",
    "    print(temps[i], ' : ', ratio[i], ' : ', gas.standard_gibbs_RT, ' : ', equilib[i])\n",
    "    \n",
    "\n",
    "print('equilibrium constant = 1 at 1312K')\n",
    "fig, axs = plt.subplots(2, sharex=True)\n",
    "fig.suptitle('concentration ratio and Keq vs T')\n",
    "axs[0].plot(temps, ratio)\n",
    "axs[1].plot(temps, equilib)\n"
   ]
  }
 ],
 "metadata": {
  "kernelspec": {
   "display_name": "Python 3",
   "language": "python",
   "name": "python3"
  },
  "language_info": {
   "codemirror_mode": {
    "name": "ipython",
    "version": 3
   },
   "file_extension": ".py",
   "mimetype": "text/x-python",
   "name": "python",
   "nbconvert_exporter": "python",
   "pygments_lexer": "ipython3",
   "version": "3.7.7"
  }
 },
 "nbformat": 4,
 "nbformat_minor": 4
}
