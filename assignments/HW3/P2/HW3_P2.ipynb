{
 "cells": [
  {
   "cell_type": "markdown",
   "metadata": {},
   "source": [
    "# HW3 Problem 2 #"
   ]
  },
  {
   "cell_type": "markdown",
   "metadata": {},
   "source": [
    "Estimate  the  high-pressure-limit ring-opening  rate coefficientfor  the  cyclohexyl  to  hexen-6-yl  radical  reaction  at  1000  K.  See  Benson’s  book  or  other  posted  readings  or  the  literature  or  rmg.mit.edu  for  typical  barrier  heights  for  radical  additions  to  double  bonds.  Note that the partition function of the transition state (TS) should be similar to but larger than that of the cyclohexyl radical, and that the TS energy must be higher than the energy of either radical.  What bounds do these correspond to on A and Ea?\n",
    "\n",
    "Does the estimate used in JetSurf 1.0 obey the physical bounds on rate coefficients you  derived above? "
   ]
  },
  {
   "cell_type": "code",
   "execution_count": 54,
   "metadata": {},
   "outputs": [],
   "source": [
    "# add appropriate modules\n",
    "import pandas as pd\n",
    "import numpy as np\n",
    "import time\n",
    "import cantera as ct\n",
    "from matplotlib import pyplot as plt\n",
    "import csv\n",
    "import math\n",
    "from operator import add\n",
    "\n",
    "from IPython.display import Image\n",
    "\n",
    "import os, sys"
   ]
  },
  {
   "cell_type": "code",
   "execution_count": 55,
   "metadata": {},
   "outputs": [
    {
     "name": "stdout",
     "output_type": "stream",
     "text": [
      "117080.872\n",
      "Rate constant from JetSurf_1:\n",
      "7494784.321164223 1/s\n"
     ]
    }
   ],
   "source": [
    "# Jetsurf 1.0 rate coefficient\n",
    "Ea = 27983*(4.184) # cal to J\n",
    "print(Ea)\n",
    "\n",
    "T = 1000 # K\n",
    "R = 8.3144621 # J/(K mol)\n",
    "k = 6.03*(10**12)*(T**0.07)*math.exp(-Ea/(R*T))\n",
    "\n",
    "print('Rate constant from JetSurf_1:')\n",
    "print(k, '1/s')"
   ]
  },
  {
   "cell_type": "code",
   "execution_count": 56,
   "metadata": {},
   "outputs": [],
   "source": [
    "# Equilibrium calcs \n",
    "cti_file = '/Users/blais.ch/_01_code/MIT_Kinetics_HW/assignments/HW3/P1/Thermo.cti'\n",
    "gas = ct.Solution(cti_file)\n",
    "\n",
    "# Gas conditions\n",
    "reactorTemperature = 1000  # Kelvin\n",
    "reactorPressure = ct.one_atm \n",
    "concentrations = {'C6H11R': 0.5, 'C6H11': 0.5}\n",
    "gas.TPX = reactorTemperature, reactorPressure, concentrations "
   ]
  },
  {
   "cell_type": "code",
   "execution_count": 57,
   "metadata": {},
   "outputs": [
    {
     "name": "stdout",
     "output_type": "stream",
     "text": [
      "Upper limit for A factor: 2.063751e+13\n"
     ]
    }
   ],
   "source": [
    "# collision limit at 1000K, entropy, enthalpy, and Gibbs from group additivity (converted to SI)\n",
    "H_cyclo = 50.19*4184\n",
    "S_cyclo = 135.61*4.184\n",
    "G_cyclo = -84.88*4184\n",
    "\n",
    "H_chain = 60*4184\n",
    "S_chain = 154.69*4.184\n",
    "G_chain = -88.32*4184\n",
    "\n",
    "dH = H_cyclo - H_chain\n",
    "dS = S_cyclo - S_chain \n",
    "dG = G_cyclo - G_chain\n",
    "\n",
    "kb = 1.38064852e-23 # boltzmann in SI\n",
    "h = 6.62607004e-34 # plank's constant in SI\n",
    "\n",
    "# A factor for reactants if TS is similar\n",
    "A_base = kb*reactorTemperature/h\n",
    "\n",
    "#reduce by the delta S TS ( I am oversimplifying by using dS rxn)\n",
    "A_new = (kb*reactorTemperature/h)*math.exp((dS)/(8.3145*reactorTemperature))\n",
    "\n",
    "\n",
    "print('Upper limit for A factor:',\"{:e}\".format(A_new))\n",
    "# Transition state is similar to end product (cyclohexane radical)"
   ]
  },
  {
   "cell_type": "code",
   "execution_count": 58,
   "metadata": {},
   "outputs": [
    {
     "name": "stdout",
     "output_type": "stream",
     "text": [
      "typical Ebarrier (Is less than above equation, so I am guessing it is wrong): 4.000000e+04\n"
     ]
    }
   ],
   "source": [
    "# barrier height on the order of 40 kj/mol for methyl radical addition to ethylene compounds\n",
    "# https://catalogimages.wiley.com/images/db/pdf/3047139274X.01.pdf\n",
    "\n",
    "# similar to delta H rxn\n",
    "Eb_typical = 40000 # kj/mol\n",
    "print('typical Ebarrier (Is less than above equation, so I am guessing it is wrong):',\"{:e}\".format(Eb_typical))"
   ]
  },
  {
   "cell_type": "code",
   "execution_count": 59,
   "metadata": {},
   "outputs": [
    {
     "name": "stdout",
     "output_type": "stream",
     "text": [
      "upper limit for k (this is way too high, my estimate was not refined enough) 168004869471.79095\n"
     ]
    }
   ],
   "source": [
    "k_guess = A_new*math.exp(-Eb_typical/(8.3145*reactorTemperature))\n",
    "\n",
    "print('upper limit for k (this is way too high, my estimate was not refined enough)',k_guess)"
   ]
  },
  {
   "cell_type": "markdown",
   "metadata": {},
   "source": [
    "I think that the A-factor calculation is an ok upper limit, but what I really should have done was calculate the contributions of the constrained ring bonds to the delta S of the transition state. I have to admit, out of all the questions I was the least comfortable with this one, but this homework in general was tough for me. I will probably have to see you after class if you have time. "
   ]
  }
 ],
 "metadata": {
  "kernelspec": {
   "display_name": "Python 3",
   "language": "python",
   "name": "python3"
  },
  "language_info": {
   "codemirror_mode": {
    "name": "ipython",
    "version": 3
   },
   "file_extension": ".py",
   "mimetype": "text/x-python",
   "name": "python",
   "nbconvert_exporter": "python",
   "pygments_lexer": "ipython3",
   "version": "3.7.7"
  }
 },
 "nbformat": 4,
 "nbformat_minor": 4
}
