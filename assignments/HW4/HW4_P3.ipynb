{
 "metadata": {
  "language_info": {
   "codemirror_mode": {
    "name": "ipython",
    "version": 3
   },
   "file_extension": ".py",
   "mimetype": "text/x-python",
   "name": "python",
   "nbconvert_exporter": "python",
   "pygments_lexer": "ipython3",
   "version": "3.7.7-final"
  },
  "orig_nbformat": 2,
  "kernelspec": {
   "name": "Python 3.7.7 64-bit ('rmg_env': conda)",
   "display_name": "Python 3.7.7 64-bit ('rmg_env': conda)",
   "metadata": {
    "interpreter": {
     "hash": "1ac46a5807933d1c023f5a0cfe8301e974d75d115309da3207e1b9715b74d305"
    }
   }
  }
 },
 "nbformat": 4,
 "nbformat_minor": 2,
 "cells": [
  {
   "source": [
    "# HW 4 Problem 3"
   ],
   "cell_type": "markdown",
   "metadata": {}
  },
  {
   "cell_type": "code",
   "execution_count": 1,
   "metadata": {},
   "outputs": [],
   "source": [
    "import pandas as pd\n",
    "import numpy as np\n",
    "import time\n",
    "import cantera as ct\n",
    "from matplotlib import pyplot as plt\n",
    "import csv\n",
    "import math\n",
    "from sklearn.linear_model import LinearRegression\n",
    "from IPython.display import Image"
   ]
  },
  {
   "source": [
    "Consider the reaction CH3 + C2H4 which we computed in an earlier homework, which is the simplest example of the reaction family R-CH2 + C2H4 = R-CH2CH2CH2. Assume for the purposes of this problem that all members of this family have the same gas-phase rate coefficient, the number you calculated for “R”=”H”.\n",
    "R-CH2 + C2H4 = R-CH2CH2CH2 is the important reaction in free-radical polymerization to make “low-density” polyethylene. About 46 million tonnes / year are produced this way. This process proceeds in liquid phase at T= 500 K, with a dielectric constant of about 2, and a viscosity which continuously increases as the polymerization proceeds. The concentration of ethene in the liquid is maintained in equilibrium with high-pressure gas-phase ethene at P=1000 atm above the liquid. (Recall that the chemical potential of the dissolved ethene will equal that of the gas- phase ethene, if they are in equilibrium).  \n",
    "  \n",
    "(a) At approximately what liquid viscosity would diffusion-limitations significantly affect this reaction’s rate coefficient? Note that that reactant radical R-CH2 is a very large molecule, whose diffusivity is small and which does not change much when another C2H4 adds to it. Also, most of this macromolecule cannot react with C2H4, only the free radical site can, so the correct radius to use when computing diffusion limits for this type of reaction is small, about the same as for the CH3 + C2H4 transition state.  "
   ],
   "cell_type": "markdown",
   "metadata": {}
  },
  {
   "cell_type": "code",
   "execution_count": 54,
   "metadata": {},
   "outputs": [
    {
     "output_type": "stream",
     "name": "stdout",
     "text": [
      "collision: [9.72124924e-22]\nDiffusion: 1.7571726454793937e-26\nCritical viscosity: 1000000.0 Pa*s\n"
     ]
    }
   ],
   "source": [
    "# viscosity ratio continuously increases as t increases\n",
    "\n",
    "# constants\n",
    "kb = 1.38064852e-23 # m2 kg s-2 K-1\n",
    "Na = 6.02214e23\n",
    "# Ra = \n",
    "# Rb = \n",
    "pi = math.pi\n",
    "\n",
    "# values\n",
    "Pressure = 1000*ct.one_atm # atm to pa\n",
    "Temp = 1000\n",
    "\n",
    "# get chemkin file and setup reactor\n",
    "cti_file = '../HW2/HW2_P1/Cantera_notebooks/chem.cti'\n",
    "gas = ct.Solution(cti_file)\n",
    "visc = 1\n",
    "# Reactor conditions\n",
    "concentrations = {'CH3': 0.7, 'C2H4': 0.3}\n",
    "gas.TPX = Temp, Pressure, concentrations \n",
    "\n",
    "# thermo values (Keq/1000 bc cantera uses units of Kmol/m^3, Keq is M^3/Kmol)\n",
    "Kab = gas.equilibrium_constants/1000\n",
    "\n",
    "# radii CH3 radical (probably flawed, used rho ch4)\n",
    "rhoch3 = 422.6 #kg/m^3\n",
    "Wch3 = 15.035/1000 # kg per mol\n",
    "Rch3 = (((3/4*pi)*(Wch3/Na))/rhoch3)**(1/3)+0.5e-10\n",
    "\n",
    "# radii C2H4\n",
    "rhoc2h4 = 577 #kg/m^3\n",
    "Wc2h4 = 28.05/1000 # kg per mol\n",
    "RC2H4 = (((3/4*pi)*(Wc2h4/Na))/rhoc2h4)**(1/3)+0.5e-10\n",
    "\n",
    "# viscosity: if Da>>Db then Da+Db ~= Da\n",
    "visc = 1e6\n",
    "DC2H4 = kb*Temp/(6*pi*RC2H4*visc)\n",
    "\n",
    "kcollision = (Rch3+RC2H4)**(0.5)*(8*pi*kb*Temp/Kab)\n",
    "kdiff = 4*pi*(DC2H4)*(RC2H4+Rch3)\n",
    "\n",
    "\n",
    "print(\"collision:\", kcollision)\n",
    "print(\"Diffusion:\",kdiff)\n",
    "print(\"Critical viscosity:\", visc, \"Pa*s\")"
   ]
  },
  {
   "source": [
    "(b) Viscosity drops as temperature increases, so to beat the diffusion limitations a colleague suggests doubling the temperature to 1000 K. Would that increase the rate coefficient of this reaction? Why or why not? Would it make the reaction less diffusion-limited? Why or why not?  \n",
    "  \n"
   ],
   "cell_type": "markdown",
   "metadata": {}
  },
  {
   "source": [
    "It would decrease the liquid diffusivity, which would increase the Diffusion rate. it would also decrease the collision rate several orders of magnitude overall shifting the reaction to collision rate limiting.  "
   ],
   "cell_type": "markdown",
   "metadata": {}
  },
  {
   "cell_type": "code",
   "execution_count": 60,
   "metadata": {},
   "outputs": [
    {
     "output_type": "stream",
     "name": "stdout",
     "text": [
      "collision: [9.72124924e-22]\nDiffusion: 1.7571726454793937e-26\n"
     ]
    }
   ],
   "source": [
    "Temp = 1000\n",
    "gas.TPX = Temp, Pressure, concentrations\n",
    "\n",
    "# thermo values (Keq/1000 bc cantera uses units of Kmol/m^3, Keq is M^3/Kmol)\n",
    "Kab = gas.equilibrium_constants/1000 \n",
    "\n",
    "# collision \n",
    "kcollision = (Rch3+RC2H4)**(0.5)*(8*pi*kb*Temp/Kab)\n",
    "\n",
    "# viscosity: if Da>>Db then Da+Db ~= Da\n",
    "visc = 1e6\n",
    "DC2H4 = kb*Temp/(6*pi*RC2H4*visc)\n",
    "\n",
    "kcollision = (Rch3+RC2H4)**(0.5)*(8*pi*kb*Temp/Kab)\n",
    "kdiff = 4*pi*(DC2H4)*(RC2H4+Rch3)\n",
    "\n",
    "\n",
    "print(\"collision:\", kcollision)\n",
    "print(\"Diffusion:\",kdiff)"
   ]
  },
  {
   "source": [
    "(c) Since the theoretical arguments suggest that the listed reaction’s rate coefficient will be larger at high temperature, you decide to increase the temperature in the reactor. Because of material limitations at such high temperature, you need to reduce the pressure to 50 atm, but you figure that the big increase in rate coefficient will be more important than the reduction in conc_C2H4). But when you try this experimentally, running at T= 1000 K is a complete failure, no polymer is made. Why could the net rate be very small even though the rate coefficient is high?"
   ],
   "cell_type": "markdown",
   "metadata": {}
  },
  {
   "source": [
    "The Gas liquid equilibrium shifted sso that there was a much smaller concentration of ethylene. in the liquid phase. "
   ],
   "cell_type": "markdown",
   "metadata": {}
  }
 ]
}