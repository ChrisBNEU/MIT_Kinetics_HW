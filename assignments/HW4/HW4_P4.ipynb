{
 "metadata": {
  "language_info": {
   "codemirror_mode": {
    "name": "ipython",
    "version": 3
   },
   "file_extension": ".py",
   "mimetype": "text/x-python",
   "name": "python",
   "nbconvert_exporter": "python",
   "pygments_lexer": "ipython3",
   "version": "3.7.7-final"
  },
  "orig_nbformat": 2,
  "kernelspec": {
   "name": "Python 3.7.7 64-bit ('rmg_env': conda)",
   "display_name": "Python 3.7.7 64-bit ('rmg_env': conda)",
   "metadata": {
    "interpreter": {
     "hash": "1ac46a5807933d1c023f5a0cfe8301e974d75d115309da3207e1b9715b74d305"
    }
   }
  }
 },
 "nbformat": 4,
 "nbformat_minor": 2,
 "cells": [
  {
   "cell_type": "code",
   "execution_count": 1,
   "metadata": {},
   "outputs": [],
   "source": [
    "import pandas as pd\n",
    "import numpy as np\n",
    "import time\n",
    "import cantera as ct\n",
    "from matplotlib import pyplot as plt\n",
    "import csv\n",
    "import math\n",
    "from sklearn.linear_model import LinearRegression\n",
    "from IPython.display import Image"
   ]
  },
  {
   "source": [
    "4) Consider the reaction NO2 + NH2OHHONO + H2NO, which you computed in an earlier homework.  \n",
    "  \n",
    "\n"
   ],
   "cell_type": "markdown",
   "metadata": {}
  },
  {
   "source": [
    "(a) Estimate the forward rate coefficient for this reaction at 300K proceeding in three different solvents: hexane, water and pyridine, and compare your estimated rate coefficient in these solvents with the number we computed for the gas phase reaction in the earlier homework. Hexane has a dielectric constant of 1.89 and a viscosity of 0.31 cP. Water has a dielectric constant of 80 and a viscosity of 0.86 cP. Pyridine has a viscosity of 0.88 cP, and a dielectric constant of 12.4. The dipole moment of NO2 is 0.33 D, and the dipole moment of NH2OH is 0.68 D. You can compute the dipole moment of the transition state using psi4 or similar quantum chemistry programs - probably you have the number already if you saved the outputs from the earlier homework."
   ],
   "cell_type": "markdown",
   "metadata": {}
  },
  {
   "cell_type": "code",
   "execution_count": 2,
   "metadata": {},
   "outputs": [],
   "source": [
    "# viscosituy ratio continuously increases as t increases\n",
    "Pressure = 1000*ct.one_atm # atm to pa\n",
    "Temp = 300\n",
    "\n",
    "# get chemkin file and setup reactor\n",
    "cti_file = '../HW2/HW2_P2/Cantera_notebooks/chem.cti'\n",
    "gas = ct.Solution(cti_file)\n",
    "\n",
    "# start with pure ethane:\n",
    "X_Eth = 1\n",
    "\n",
    "# Reactor conditions\n",
    "\n",
    "concentrations = {'r_no2': 0.5, 'r_hydroxylamine': 0.5}\n",
    "gas.TPX = Temp, Pressure, concentrations "
   ]
  },
  {
   "cell_type": "code",
   "execution_count": null,
   "metadata": {},
   "outputs": [],
   "source": []
  },
  {
   "source": [
    "(b) Pyridine is abase,so it is expected to pull the reaction equilibrium to the right by trapping the acid product HONO (first H-bonding to form the complex Pyridine---HONO, then transferring the proton to form the ion pair pyridineH+ NO2- ), and so it will make the overall process more exothermic. Often things which make a reaction more exothermic also make it faster. However, experimentally the rate is actually quite slow in pyridine. Investigations on this show that the infrared spectrum of NH2OH is significantly perturbed in pyridine, having the low O-H stretching frequency typical of H-bonding. Propose a reason why the rate is unusually slow in pyridine. For more on this topic, see Acc. Chem. Res. 2007, 40, 222-230."
   ],
   "cell_type": "markdown",
   "metadata": {}
  },
  {
   "cell_type": "code",
   "execution_count": null,
   "metadata": {},
   "outputs": [],
   "source": []
  }
 ]
}